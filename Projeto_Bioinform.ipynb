{
 "cells": [
  {
   "cell_type": "markdown",
   "id": "d14dcb7c",
   "metadata": {},
   "source": [
    "# Postmortem Alzheimer's disease brains: Hisayama study"
   ]
  },
  {
   "cell_type": "markdown",
   "id": "516862e0",
   "metadata": {},
   "source": [
    "---"
   ]
  },
  {
   "cell_type": "markdown",
   "id": "1abd635e",
   "metadata": {},
   "source": [
    "## Introdução"
   ]
  },
  {
   "cell_type": "markdown",
   "id": "ff317382",
   "metadata": {},
   "source": [
    "### Descrição da doença"
   ]
  },
  {
   "cell_type": "markdown",
   "id": "0872f20e",
   "metadata": {},
   "source": [
    "A doença do Alzheimer é uma condição neurodegenerativa crónica que afeta a memória, o pensamento e o comportamento. É considerada a causa mais comum de demência, correspondendo a cerca de 60-70% dos casos, sendo a sétima maior causa de morte e de uma das maiores causas de dependência na população mais envelhecida. Segundos dados recolhidos pela OMS, é estimada uma incidência mundial superior a 55 milhões de pessoas com um aumento anual de 10 milhões de novos casos por ano. Relativamente a Portugal, segundo a OCDE, este país é considerado o 4º país com mais casos por cada mil habitantes, apresentado um prevalência média de 19,9 casos por cada mil habitantes (em comparação a prevalência média da OCDE 14,4 casos/mil habitantes).\n",
    "Atualmente sabe-se que o risco de obtenção desta doença neurodegenerativa agrava-se, não só, com o aumento da idade, como também pela presença de doenças como diabetes, hipertensão, obesidade, depressão, entre outros fatores. Desta forma seria de esperar que o risco de obtenção desta doença pudesse ser diminuído pela prática regular de exercício físico, controlo de obesidade e adoção de um estilo de vida saudável. No entanto, estudos efetuados não revelam fortes evidências que apoiem estas recomendações. \n",
    "As causas inerentes aos casos de Alzheimer ainda são uma incógnita, tendo alguns estudos demonstrado fores evidências de hereditariedade genética associada a cerca de 1-5% dos casos averiguados.\n",
    "Atualmente não existe qualquer tipo de medicamento ou tratamento que consiga travar ou reverter esta doença, embora alguns consigam melhorar temporariamente os sintomas. "
   ]
  },
  {
   "cell_type": "markdown",
   "id": "74fa2edb",
   "metadata": {},
   "source": [
    "### Hisayama Study"
   ]
  },
  {
   "cell_type": "markdown",
   "id": "121c0926",
   "metadata": {},
   "source": [
    "O Estudo Hisayama é um estudo de coorte prospetivo de base populacional, consuzido na cidade de Hisayama, no Japão, a partir do ano de 1961, tendo contando com a participação de 70-80% dos residentes desta região. Este estudo teve como objetivo avaliar o risco de diferentes fatores relacionados com o estilo de vida adotado no desenvolvimento de doenças como a diabetes, demência e hipertensão. Uma das características que conferem a este estudo particular relevância assenta no banco de dados post-mortem, que validou a precisão do diagnóstico de doenças cerebrovasculares, cardíacas e a tendência dos perfis da doença.\n",
    "Desta forma, este estudo é um dos mais completos e relavantes na área,fornecendo evidências sólidas do contributo de diversos fatores inerentes ao estilo de vida adotado pelo indivíduo e o desenvolvimento de algumas doenças, das quais a demência. "
   ]
  },
  {
   "cell_type": "markdown",
   "id": "228e32cc",
   "metadata": {},
   "source": [
    "### Dataset utilizado  "
   ]
  },
  {
   "cell_type": "markdown",
   "id": "78660e7b",
   "metadata": {},
   "source": [
    "O dataset selecionado tem por base o Estudo de Hisayama, utilizando dados retirados da análise de tecidos cerebrais post-mortem (córtex frontal, temporal e hipocampo) de homens e mulheres que participaram neste estudo e que foram diagnosticados patologicamente com a doença do Alzheimer, ou um distúrbio semelhante. Desta forma, os dados deste dataset apresentam informações sobre os mecanismos moleculares subjacentes à patologia cerebral do Alzheimer.\n",
    "\n",
    "O dataset apresenta dois ficheiros, um referente aos dados (gds4758.csv), que contém valores de expressão genética dos diferentes pacientes para diferentes genes que se encontram associados ao Alzheimer, e outro referente aos meta-dados (meta-gds4758.csv). Este último, apresenta dados referentes a variáveis essenciais, que se encontram dispostas em colunas:\n",
    "- Sample: Dado pela forma GSMXXXXXXX, permite identificar a amostra.\n",
    "- Disease.state: Permite identificar se a amostra está associada à doença do Alzheimer ou não.\n",
    "- Tissue: Identifica o tecido de onde foi retirada a amostra ( córtex frontal, córtex temporal ou hipocampo).\n",
    "- Gender: identifica o género da pessoa de onde foi recolhida a amostra (masculino ou feminino).\n",
    "- Description: Descrição adicional sobre cada amostra.\n",
    "\n",
    "\n",
    "Dataset disponível em: https://www.ncbi.nlm.nih.gov/sites/GDSbrowser?acc=GDS4758"
   ]
  },
  {
   "cell_type": "markdown",
   "id": "4aa9dab2",
   "metadata": {},
   "source": [
    "### Objetivos do trabalho "
   ]
  },
  {
   "cell_type": "markdown",
   "id": "5c068489",
   "metadata": {},
   "source": [
    "- Utilização de técnicas de machine learning para previsão do desenvolvimento da doença do Alzheimer, com base nos valores de expressão genética para os diferentes pacientes;\n",
    "\n",
    "- Previsão do tecido de onde deverá ter sido retirada a amostra, com base nos valores de expressão genética para os diferentes pacientes."
   ]
  },
  {
   "cell_type": "markdown",
   "id": "7b134140",
   "metadata": {},
   "source": [
    "---"
   ]
  },
  {
   "cell_type": "markdown",
   "id": "c6b588ed",
   "metadata": {},
   "source": [
    "## Secção 1: Exploração do Dataset pela análise dos dados e metadados"
   ]
  },
  {
   "cell_type": "markdown",
   "id": "0f683097",
   "metadata": {},
   "source": [
    "### 1.1. Leitura dos Dados e Meta-dados"
   ]
  },
  {
   "cell_type": "code",
   "execution_count": 1,
   "id": "4a11a7e2",
   "metadata": {},
   "outputs": [],
   "source": [
    "from warnings import simplefilter\n",
    "# ignore all future warnings\n",
    "simplefilter(action='ignore', category=FutureWarning)"
   ]
  },
  {
   "cell_type": "markdown",
   "id": "1d9de8a4",
   "metadata": {},
   "source": [
    "Em primeiro lugar procede-se à abertura do dataset e  a uma visualização geral dos dados."
   ]
  },
  {
   "cell_type": "code",
   "execution_count": 2,
   "id": "c35d8401",
   "metadata": {
    "scrolled": false
   },
   "outputs": [
    {
     "data": {
      "text/html": [
       "<div>\n",
       "<style scoped>\n",
       "    .dataframe tbody tr th:only-of-type {\n",
       "        vertical-align: middle;\n",
       "    }\n",
       "\n",
       "    .dataframe tbody tr th {\n",
       "        vertical-align: top;\n",
       "    }\n",
       "\n",
       "    .dataframe thead th {\n",
       "        text-align: right;\n",
       "    }\n",
       "</style>\n",
       "<table border=\"1\" class=\"dataframe\">\n",
       "  <thead>\n",
       "    <tr style=\"text-align: right;\">\n",
       "      <th></th>\n",
       "      <th>GSM907858</th>\n",
       "      <th>GSM907859</th>\n",
       "      <th>GSM907860</th>\n",
       "      <th>GSM907854</th>\n",
       "      <th>GSM907855</th>\n",
       "      <th>GSM907856</th>\n",
       "      <th>GSM907857</th>\n",
       "      <th>GSM907825</th>\n",
       "      <th>GSM907828</th>\n",
       "      <th>GSM907832</th>\n",
       "      <th>...</th>\n",
       "      <th>GSM907823</th>\n",
       "      <th>GSM907808</th>\n",
       "      <th>GSM907809</th>\n",
       "      <th>GSM907810</th>\n",
       "      <th>GSM907811</th>\n",
       "      <th>GSM907812</th>\n",
       "      <th>GSM907815</th>\n",
       "      <th>GSM907817</th>\n",
       "      <th>GSM907821</th>\n",
       "      <th>GSM907824</th>\n",
       "    </tr>\n",
       "  </thead>\n",
       "  <tbody>\n",
       "    <tr>\n",
       "      <th>7896736</th>\n",
       "      <td>7.98001</td>\n",
       "      <td>7.76415</td>\n",
       "      <td>7.54313</td>\n",
       "      <td>7.84693</td>\n",
       "      <td>7.49627</td>\n",
       "      <td>7.92109</td>\n",
       "      <td>7.75988</td>\n",
       "      <td>7.23496</td>\n",
       "      <td>7.77429</td>\n",
       "      <td>7.67991</td>\n",
       "      <td>...</td>\n",
       "      <td>7.25483</td>\n",
       "      <td>7.37792</td>\n",
       "      <td>7.20859</td>\n",
       "      <td>7.10271</td>\n",
       "      <td>7.07700</td>\n",
       "      <td>6.95540</td>\n",
       "      <td>7.23591</td>\n",
       "      <td>7.17572</td>\n",
       "      <td>7.01313</td>\n",
       "      <td>6.91400</td>\n",
       "    </tr>\n",
       "    <tr>\n",
       "      <th>7896738</th>\n",
       "      <td>5.42206</td>\n",
       "      <td>5.59312</td>\n",
       "      <td>4.77380</td>\n",
       "      <td>4.99679</td>\n",
       "      <td>5.27858</td>\n",
       "      <td>6.12362</td>\n",
       "      <td>5.10448</td>\n",
       "      <td>4.78555</td>\n",
       "      <td>4.29300</td>\n",
       "      <td>4.75807</td>\n",
       "      <td>...</td>\n",
       "      <td>4.70955</td>\n",
       "      <td>4.89731</td>\n",
       "      <td>4.73950</td>\n",
       "      <td>4.77599</td>\n",
       "      <td>4.49829</td>\n",
       "      <td>5.44083</td>\n",
       "      <td>6.18140</td>\n",
       "      <td>4.87187</td>\n",
       "      <td>4.38672</td>\n",
       "      <td>5.30893</td>\n",
       "    </tr>\n",
       "    <tr>\n",
       "      <th>7896740</th>\n",
       "      <td>6.74531</td>\n",
       "      <td>7.63617</td>\n",
       "      <td>6.46318</td>\n",
       "      <td>6.50367</td>\n",
       "      <td>6.47790</td>\n",
       "      <td>7.64459</td>\n",
       "      <td>6.17849</td>\n",
       "      <td>5.63094</td>\n",
       "      <td>5.86639</td>\n",
       "      <td>5.93404</td>\n",
       "      <td>...</td>\n",
       "      <td>5.67810</td>\n",
       "      <td>5.91919</td>\n",
       "      <td>6.03426</td>\n",
       "      <td>5.93513</td>\n",
       "      <td>5.79917</td>\n",
       "      <td>6.67070</td>\n",
       "      <td>7.57895</td>\n",
       "      <td>5.91335</td>\n",
       "      <td>5.32446</td>\n",
       "      <td>5.93580</td>\n",
       "    </tr>\n",
       "    <tr>\n",
       "      <th>7896742</th>\n",
       "      <td>9.36478</td>\n",
       "      <td>9.65509</td>\n",
       "      <td>9.67887</td>\n",
       "      <td>9.70713</td>\n",
       "      <td>9.60505</td>\n",
       "      <td>9.46327</td>\n",
       "      <td>9.68657</td>\n",
       "      <td>9.84651</td>\n",
       "      <td>9.48611</td>\n",
       "      <td>9.77404</td>\n",
       "      <td>...</td>\n",
       "      <td>9.20082</td>\n",
       "      <td>9.47752</td>\n",
       "      <td>9.43285</td>\n",
       "      <td>9.26028</td>\n",
       "      <td>9.78053</td>\n",
       "      <td>9.88431</td>\n",
       "      <td>9.32089</td>\n",
       "      <td>9.51553</td>\n",
       "      <td>9.45983</td>\n",
       "      <td>9.32106</td>\n",
       "    </tr>\n",
       "    <tr>\n",
       "      <th>7896744</th>\n",
       "      <td>8.22276</td>\n",
       "      <td>8.20467</td>\n",
       "      <td>7.77943</td>\n",
       "      <td>7.97956</td>\n",
       "      <td>7.72075</td>\n",
       "      <td>8.23660</td>\n",
       "      <td>6.86347</td>\n",
       "      <td>7.76701</td>\n",
       "      <td>7.35602</td>\n",
       "      <td>7.51173</td>\n",
       "      <td>...</td>\n",
       "      <td>6.19080</td>\n",
       "      <td>7.81728</td>\n",
       "      <td>7.35427</td>\n",
       "      <td>7.04910</td>\n",
       "      <td>7.32651</td>\n",
       "      <td>7.61803</td>\n",
       "      <td>8.20924</td>\n",
       "      <td>6.48359</td>\n",
       "      <td>7.09810</td>\n",
       "      <td>6.80678</td>\n",
       "    </tr>\n",
       "  </tbody>\n",
       "</table>\n",
       "<p>5 rows × 79 columns</p>\n",
       "</div>"
      ],
      "text/plain": [
       "         GSM907858  GSM907859  GSM907860  GSM907854  GSM907855  GSM907856  \\\n",
       "7896736    7.98001    7.76415    7.54313    7.84693    7.49627    7.92109   \n",
       "7896738    5.42206    5.59312    4.77380    4.99679    5.27858    6.12362   \n",
       "7896740    6.74531    7.63617    6.46318    6.50367    6.47790    7.64459   \n",
       "7896742    9.36478    9.65509    9.67887    9.70713    9.60505    9.46327   \n",
       "7896744    8.22276    8.20467    7.77943    7.97956    7.72075    8.23660   \n",
       "\n",
       "         GSM907857  GSM907825  GSM907828  GSM907832  ...  GSM907823  \\\n",
       "7896736    7.75988    7.23496    7.77429    7.67991  ...    7.25483   \n",
       "7896738    5.10448    4.78555    4.29300    4.75807  ...    4.70955   \n",
       "7896740    6.17849    5.63094    5.86639    5.93404  ...    5.67810   \n",
       "7896742    9.68657    9.84651    9.48611    9.77404  ...    9.20082   \n",
       "7896744    6.86347    7.76701    7.35602    7.51173  ...    6.19080   \n",
       "\n",
       "         GSM907808  GSM907809  GSM907810  GSM907811  GSM907812  GSM907815  \\\n",
       "7896736    7.37792    7.20859    7.10271    7.07700    6.95540    7.23591   \n",
       "7896738    4.89731    4.73950    4.77599    4.49829    5.44083    6.18140   \n",
       "7896740    5.91919    6.03426    5.93513    5.79917    6.67070    7.57895   \n",
       "7896742    9.47752    9.43285    9.26028    9.78053    9.88431    9.32089   \n",
       "7896744    7.81728    7.35427    7.04910    7.32651    7.61803    8.20924   \n",
       "\n",
       "         GSM907817  GSM907821  GSM907824  \n",
       "7896736    7.17572    7.01313    6.91400  \n",
       "7896738    4.87187    4.38672    5.30893  \n",
       "7896740    5.91335    5.32446    5.93580  \n",
       "7896742    9.51553    9.45983    9.32106  \n",
       "7896744    6.48359    7.09810    6.80678  \n",
       "\n",
       "[5 rows x 79 columns]"
      ]
     },
     "execution_count": 2,
     "metadata": {},
     "output_type": "execute_result"
    }
   ],
   "source": [
    "import pandas as pd\n",
    "import numpy as np\n",
    "import seaborn as sn\n",
    "\n",
    "%matplotlib inline\n",
    "import matplotlib.pyplot as plt\n",
    "\n",
    "# Opening the dataset with pandas\n",
    "data_all = pd.read_csv(\"gds4758.csv\", sep=',', index_col = 0)\n",
    "data_all.head()"
   ]
  },
  {
   "cell_type": "markdown",
   "id": "c0b9ec85",
   "metadata": {},
   "source": [
    "Verifica-se que as linhas correspondem aos pacientes utilizados para o estudo e, nas colunas, os genes relevantes. O corpo da matriz é composto por um valor referente à expressão genética."
   ]
  },
  {
   "cell_type": "markdown",
   "id": "938079e4",
   "metadata": {},
   "source": [
    "Tendo em conta que o passo anterior não permite ter uma noção de toda a extensão do dataset, foi utilizada a ferramenta values.shape(), que permite obter o número de linhas e de colunas do nosso dataset. "
   ]
  },
  {
   "cell_type": "code",
   "execution_count": 3,
   "id": "e2fbd78b",
   "metadata": {},
   "outputs": [
    {
     "name": "stdout",
     "output_type": "stream",
     "text": [
      "(33297, 79)\n"
     ]
    }
   ],
   "source": [
    "# tamanho do dataset: linhas=pacientes, colunas=genes\n",
    "print(data_all.values.shape)"
   ]
  },
  {
   "cell_type": "markdown",
   "id": "d031b6ab",
   "metadata": {},
   "source": [
    "Daqui verifica-se que as linhas correspondem aos pacientes, existindo 33297 pacientes (homens e mulheres)  e nas colunas os diferentes genes (79 genes). "
   ]
  },
  {
   "cell_type": "markdown",
   "id": "cf5b7d84",
   "metadata": {},
   "source": [
    "De seguida procede-se à abertura do dataset referente aos meta-dados, efetuando-se os mesmo passos que foram utilizados anteriormente."
   ]
  },
  {
   "cell_type": "code",
   "execution_count": 4,
   "id": "b7a8b307",
   "metadata": {},
   "outputs": [
    {
     "data": {
      "text/html": [
       "<div>\n",
       "<style scoped>\n",
       "    .dataframe tbody tr th:only-of-type {\n",
       "        vertical-align: middle;\n",
       "    }\n",
       "\n",
       "    .dataframe tbody tr th {\n",
       "        vertical-align: top;\n",
       "    }\n",
       "\n",
       "    .dataframe thead th {\n",
       "        text-align: right;\n",
       "    }\n",
       "</style>\n",
       "<table border=\"1\" class=\"dataframe\">\n",
       "  <thead>\n",
       "    <tr style=\"text-align: right;\">\n",
       "      <th></th>\n",
       "      <th>sample</th>\n",
       "      <th>disease.state</th>\n",
       "      <th>tissue</th>\n",
       "      <th>gender</th>\n",
       "      <th>description</th>\n",
       "    </tr>\n",
       "  </thead>\n",
       "  <tbody>\n",
       "    <tr>\n",
       "      <th>GSM907858</th>\n",
       "      <td>GSM907858</td>\n",
       "      <td>Alzheimer's disease</td>\n",
       "      <td>hippocampus</td>\n",
       "      <td>male</td>\n",
       "      <td>Value for GSM907858: AD_HI, biological rep5; s...</td>\n",
       "    </tr>\n",
       "    <tr>\n",
       "      <th>GSM907859</th>\n",
       "      <td>GSM907859</td>\n",
       "      <td>Alzheimer's disease</td>\n",
       "      <td>hippocampus</td>\n",
       "      <td>male</td>\n",
       "      <td>Value for GSM907859: AD_HI, biological rep6; s...</td>\n",
       "    </tr>\n",
       "    <tr>\n",
       "      <th>GSM907860</th>\n",
       "      <td>GSM907860</td>\n",
       "      <td>Alzheimer's disease</td>\n",
       "      <td>hippocampus</td>\n",
       "      <td>male</td>\n",
       "      <td>Value for GSM907860: AD_HI, biological rep7; s...</td>\n",
       "    </tr>\n",
       "    <tr>\n",
       "      <th>GSM907854</th>\n",
       "      <td>GSM907854</td>\n",
       "      <td>Alzheimer's disease</td>\n",
       "      <td>hippocampus</td>\n",
       "      <td>female</td>\n",
       "      <td>Value for GSM907854: AD_HI, biological rep1; s...</td>\n",
       "    </tr>\n",
       "    <tr>\n",
       "      <th>GSM907855</th>\n",
       "      <td>GSM907855</td>\n",
       "      <td>Alzheimer's disease</td>\n",
       "      <td>hippocampus</td>\n",
       "      <td>female</td>\n",
       "      <td>Value for GSM907855: AD_HI, biological rep2; s...</td>\n",
       "    </tr>\n",
       "  </tbody>\n",
       "</table>\n",
       "</div>"
      ],
      "text/plain": [
       "              sample        disease.state       tissue  gender  \\\n",
       "GSM907858  GSM907858  Alzheimer's disease  hippocampus    male   \n",
       "GSM907859  GSM907859  Alzheimer's disease  hippocampus    male   \n",
       "GSM907860  GSM907860  Alzheimer's disease  hippocampus    male   \n",
       "GSM907854  GSM907854  Alzheimer's disease  hippocampus  female   \n",
       "GSM907855  GSM907855  Alzheimer's disease  hippocampus  female   \n",
       "\n",
       "                                                 description  \n",
       "GSM907858  Value for GSM907858: AD_HI, biological rep5; s...  \n",
       "GSM907859  Value for GSM907859: AD_HI, biological rep6; s...  \n",
       "GSM907860  Value for GSM907860: AD_HI, biological rep7; s...  \n",
       "GSM907854  Value for GSM907854: AD_HI, biological rep1; s...  \n",
       "GSM907855  Value for GSM907855: AD_HI, biological rep2; s...  "
      ]
     },
     "execution_count": 4,
     "metadata": {},
     "output_type": "execute_result"
    }
   ],
   "source": [
    "meta_all = pd.read_csv(\"meta-gds4758.csv\", sep = \",\", index_col = 0)\n",
    "meta_all.head()"
   ]
  },
  {
   "cell_type": "markdown",
   "id": "aa168daf",
   "metadata": {},
   "source": [
    "Da visualização dos meta-dados, podemos verificar que as diferentes colunas apresentam informações essenciais relativas a cada um dos genes utilizados no estudo, tais como: a identificação da amostra, o facto de ser ou não um gene associado à doença do Alzheimer, o tecido onde a sua expressão genética é maior, o género do indivíduo e uma breve descrição."
   ]
  },
  {
   "cell_type": "code",
   "execution_count": 5,
   "id": "4c359af3",
   "metadata": {},
   "outputs": [
    {
     "name": "stdout",
     "output_type": "stream",
     "text": [
      "(79, 5)\n"
     ]
    }
   ],
   "source": [
    "# tamanho da meta_data\n",
    "print(meta_all.values.shape)"
   ]
  },
  {
   "cell_type": "markdown",
   "id": "2d6b391e",
   "metadata": {},
   "source": [
    "A metadata é composta por 79 genes e 5 colunas com diferentes informações associadas a cada um deles (sample, estado da doença, tecido, género e descrição)."
   ]
  },
  {
   "cell_type": "markdown",
   "id": "391dd824",
   "metadata": {},
   "source": [
    "### 1.2. Exploração dos dados e meta-dados"
   ]
  },
  {
   "cell_type": "markdown",
   "id": "bba5b54d",
   "metadata": {},
   "source": [
    "A próxima etapa tem como objetivo explorar os dados do dataset principal."
   ]
  },
  {
   "cell_type": "markdown",
   "id": "56d6c11d",
   "metadata": {},
   "source": [
    "### 1.2.1. Exploração do Dataset"
   ]
  },
  {
   "cell_type": "markdown",
   "id": "0eaa876d",
   "metadata": {},
   "source": [
    "Em primeiro lugar procede-se à descrição dos dados relativos ao genes (a matriz dos dados deve apresentar os genes nas colunas)."
   ]
  },
  {
   "cell_type": "code",
   "execution_count": 6,
   "id": "2a5483ec",
   "metadata": {},
   "outputs": [
    {
     "data": {
      "text/html": [
       "<div>\n",
       "<style scoped>\n",
       "    .dataframe tbody tr th:only-of-type {\n",
       "        vertical-align: middle;\n",
       "    }\n",
       "\n",
       "    .dataframe tbody tr th {\n",
       "        vertical-align: top;\n",
       "    }\n",
       "\n",
       "    .dataframe thead th {\n",
       "        text-align: right;\n",
       "    }\n",
       "</style>\n",
       "<table border=\"1\" class=\"dataframe\">\n",
       "  <thead>\n",
       "    <tr style=\"text-align: right;\">\n",
       "      <th></th>\n",
       "      <th>GSM907858</th>\n",
       "      <th>GSM907859</th>\n",
       "      <th>GSM907860</th>\n",
       "      <th>GSM907854</th>\n",
       "      <th>GSM907855</th>\n",
       "      <th>GSM907856</th>\n",
       "      <th>GSM907857</th>\n",
       "      <th>GSM907825</th>\n",
       "      <th>GSM907828</th>\n",
       "      <th>GSM907832</th>\n",
       "      <th>...</th>\n",
       "      <th>GSM907823</th>\n",
       "      <th>GSM907808</th>\n",
       "      <th>GSM907809</th>\n",
       "      <th>GSM907810</th>\n",
       "      <th>GSM907811</th>\n",
       "      <th>GSM907812</th>\n",
       "      <th>GSM907815</th>\n",
       "      <th>GSM907817</th>\n",
       "      <th>GSM907821</th>\n",
       "      <th>GSM907824</th>\n",
       "    </tr>\n",
       "  </thead>\n",
       "  <tbody>\n",
       "    <tr>\n",
       "      <th>count</th>\n",
       "      <td>33297.000000</td>\n",
       "      <td>33297.000000</td>\n",
       "      <td>33297.000000</td>\n",
       "      <td>33297.000000</td>\n",
       "      <td>33297.000000</td>\n",
       "      <td>33297.000000</td>\n",
       "      <td>33297.000000</td>\n",
       "      <td>33297.000000</td>\n",
       "      <td>33297.000000</td>\n",
       "      <td>33297.000000</td>\n",
       "      <td>...</td>\n",
       "      <td>33297.000000</td>\n",
       "      <td>33297.000000</td>\n",
       "      <td>33297.000000</td>\n",
       "      <td>33297.000000</td>\n",
       "      <td>33297.000000</td>\n",
       "      <td>33297.000000</td>\n",
       "      <td>33297.000000</td>\n",
       "      <td>33297.000000</td>\n",
       "      <td>33297.000000</td>\n",
       "      <td>33297.000000</td>\n",
       "    </tr>\n",
       "    <tr>\n",
       "      <th>mean</th>\n",
       "      <td>7.479263</td>\n",
       "      <td>7.474832</td>\n",
       "      <td>7.480576</td>\n",
       "      <td>7.460422</td>\n",
       "      <td>7.471921</td>\n",
       "      <td>7.481591</td>\n",
       "      <td>7.489707</td>\n",
       "      <td>7.488842</td>\n",
       "      <td>7.503102</td>\n",
       "      <td>7.486217</td>\n",
       "      <td>...</td>\n",
       "      <td>7.450923</td>\n",
       "      <td>7.492268</td>\n",
       "      <td>7.448367</td>\n",
       "      <td>7.466426</td>\n",
       "      <td>7.455171</td>\n",
       "      <td>7.487544</td>\n",
       "      <td>7.443075</td>\n",
       "      <td>7.449897</td>\n",
       "      <td>7.448544</td>\n",
       "      <td>7.435333</td>\n",
       "    </tr>\n",
       "    <tr>\n",
       "      <th>std</th>\n",
       "      <td>2.107821</td>\n",
       "      <td>2.088814</td>\n",
       "      <td>2.097620</td>\n",
       "      <td>2.133745</td>\n",
       "      <td>2.099597</td>\n",
       "      <td>2.096785</td>\n",
       "      <td>2.095882</td>\n",
       "      <td>2.182299</td>\n",
       "      <td>2.165019</td>\n",
       "      <td>2.179870</td>\n",
       "      <td>...</td>\n",
       "      <td>2.078882</td>\n",
       "      <td>2.055549</td>\n",
       "      <td>2.086622</td>\n",
       "      <td>2.069110</td>\n",
       "      <td>2.109427</td>\n",
       "      <td>2.048433</td>\n",
       "      <td>2.111164</td>\n",
       "      <td>2.110475</td>\n",
       "      <td>2.096468</td>\n",
       "      <td>2.123418</td>\n",
       "    </tr>\n",
       "    <tr>\n",
       "      <th>min</th>\n",
       "      <td>1.347460</td>\n",
       "      <td>1.258460</td>\n",
       "      <td>1.359360</td>\n",
       "      <td>1.194040</td>\n",
       "      <td>1.258460</td>\n",
       "      <td>1.064550</td>\n",
       "      <td>1.194040</td>\n",
       "      <td>1.173120</td>\n",
       "      <td>1.101530</td>\n",
       "      <td>1.233100</td>\n",
       "      <td>...</td>\n",
       "      <td>1.259710</td>\n",
       "      <td>1.237220</td>\n",
       "      <td>1.190460</td>\n",
       "      <td>1.382410</td>\n",
       "      <td>1.351570</td>\n",
       "      <td>1.329990</td>\n",
       "      <td>1.393670</td>\n",
       "      <td>1.219520</td>\n",
       "      <td>1.229330</td>\n",
       "      <td>1.211350</td>\n",
       "    </tr>\n",
       "    <tr>\n",
       "      <th>25%</th>\n",
       "      <td>6.197580</td>\n",
       "      <td>6.254010</td>\n",
       "      <td>6.214780</td>\n",
       "      <td>6.127840</td>\n",
       "      <td>6.164550</td>\n",
       "      <td>6.213010</td>\n",
       "      <td>6.222420</td>\n",
       "      <td>6.104170</td>\n",
       "      <td>6.158450</td>\n",
       "      <td>6.144360</td>\n",
       "      <td>...</td>\n",
       "      <td>6.178570</td>\n",
       "      <td>6.268220</td>\n",
       "      <td>6.212190</td>\n",
       "      <td>6.236000</td>\n",
       "      <td>6.161320</td>\n",
       "      <td>6.254290</td>\n",
       "      <td>6.143710</td>\n",
       "      <td>6.121110</td>\n",
       "      <td>6.148660</td>\n",
       "      <td>6.080080</td>\n",
       "    </tr>\n",
       "    <tr>\n",
       "      <th>50%</th>\n",
       "      <td>7.588790</td>\n",
       "      <td>7.578940</td>\n",
       "      <td>7.586290</td>\n",
       "      <td>7.567520</td>\n",
       "      <td>7.576180</td>\n",
       "      <td>7.579970</td>\n",
       "      <td>7.624780</td>\n",
       "      <td>7.600450</td>\n",
       "      <td>7.608120</td>\n",
       "      <td>7.614330</td>\n",
       "      <td>...</td>\n",
       "      <td>7.546520</td>\n",
       "      <td>7.595400</td>\n",
       "      <td>7.564980</td>\n",
       "      <td>7.575470</td>\n",
       "      <td>7.534780</td>\n",
       "      <td>7.595180</td>\n",
       "      <td>7.516370</td>\n",
       "      <td>7.528720</td>\n",
       "      <td>7.541610</td>\n",
       "      <td>7.513190</td>\n",
       "    </tr>\n",
       "    <tr>\n",
       "      <th>75%</th>\n",
       "      <td>8.837570</td>\n",
       "      <td>8.781160</td>\n",
       "      <td>8.824550</td>\n",
       "      <td>8.849780</td>\n",
       "      <td>8.841430</td>\n",
       "      <td>8.811790</td>\n",
       "      <td>8.811510</td>\n",
       "      <td>8.956660</td>\n",
       "      <td>8.927720</td>\n",
       "      <td>8.900230</td>\n",
       "      <td>...</td>\n",
       "      <td>8.804370</td>\n",
       "      <td>8.804420</td>\n",
       "      <td>8.770880</td>\n",
       "      <td>8.769060</td>\n",
       "      <td>8.819990</td>\n",
       "      <td>8.773480</td>\n",
       "      <td>8.815770</td>\n",
       "      <td>8.832880</td>\n",
       "      <td>8.817730</td>\n",
       "      <td>8.858490</td>\n",
       "    </tr>\n",
       "    <tr>\n",
       "      <th>max</th>\n",
       "      <td>14.656100</td>\n",
       "      <td>14.576000</td>\n",
       "      <td>14.451700</td>\n",
       "      <td>14.578500</td>\n",
       "      <td>14.639000</td>\n",
       "      <td>14.660500</td>\n",
       "      <td>14.673500</td>\n",
       "      <td>14.659900</td>\n",
       "      <td>14.688400</td>\n",
       "      <td>14.665000</td>\n",
       "      <td>...</td>\n",
       "      <td>14.644900</td>\n",
       "      <td>14.578700</td>\n",
       "      <td>14.549200</td>\n",
       "      <td>14.569600</td>\n",
       "      <td>14.598000</td>\n",
       "      <td>14.562600</td>\n",
       "      <td>14.600800</td>\n",
       "      <td>14.540900</td>\n",
       "      <td>14.545800</td>\n",
       "      <td>14.621900</td>\n",
       "    </tr>\n",
       "  </tbody>\n",
       "</table>\n",
       "<p>8 rows × 79 columns</p>\n",
       "</div>"
      ],
      "text/plain": [
       "          GSM907858     GSM907859     GSM907860     GSM907854     GSM907855  \\\n",
       "count  33297.000000  33297.000000  33297.000000  33297.000000  33297.000000   \n",
       "mean       7.479263      7.474832      7.480576      7.460422      7.471921   \n",
       "std        2.107821      2.088814      2.097620      2.133745      2.099597   \n",
       "min        1.347460      1.258460      1.359360      1.194040      1.258460   \n",
       "25%        6.197580      6.254010      6.214780      6.127840      6.164550   \n",
       "50%        7.588790      7.578940      7.586290      7.567520      7.576180   \n",
       "75%        8.837570      8.781160      8.824550      8.849780      8.841430   \n",
       "max       14.656100     14.576000     14.451700     14.578500     14.639000   \n",
       "\n",
       "          GSM907856     GSM907857     GSM907825     GSM907828     GSM907832  \\\n",
       "count  33297.000000  33297.000000  33297.000000  33297.000000  33297.000000   \n",
       "mean       7.481591      7.489707      7.488842      7.503102      7.486217   \n",
       "std        2.096785      2.095882      2.182299      2.165019      2.179870   \n",
       "min        1.064550      1.194040      1.173120      1.101530      1.233100   \n",
       "25%        6.213010      6.222420      6.104170      6.158450      6.144360   \n",
       "50%        7.579970      7.624780      7.600450      7.608120      7.614330   \n",
       "75%        8.811790      8.811510      8.956660      8.927720      8.900230   \n",
       "max       14.660500     14.673500     14.659900     14.688400     14.665000   \n",
       "\n",
       "       ...     GSM907823     GSM907808     GSM907809     GSM907810  \\\n",
       "count  ...  33297.000000  33297.000000  33297.000000  33297.000000   \n",
       "mean   ...      7.450923      7.492268      7.448367      7.466426   \n",
       "std    ...      2.078882      2.055549      2.086622      2.069110   \n",
       "min    ...      1.259710      1.237220      1.190460      1.382410   \n",
       "25%    ...      6.178570      6.268220      6.212190      6.236000   \n",
       "50%    ...      7.546520      7.595400      7.564980      7.575470   \n",
       "75%    ...      8.804370      8.804420      8.770880      8.769060   \n",
       "max    ...     14.644900     14.578700     14.549200     14.569600   \n",
       "\n",
       "          GSM907811     GSM907812     GSM907815     GSM907817     GSM907821  \\\n",
       "count  33297.000000  33297.000000  33297.000000  33297.000000  33297.000000   \n",
       "mean       7.455171      7.487544      7.443075      7.449897      7.448544   \n",
       "std        2.109427      2.048433      2.111164      2.110475      2.096468   \n",
       "min        1.351570      1.329990      1.393670      1.219520      1.229330   \n",
       "25%        6.161320      6.254290      6.143710      6.121110      6.148660   \n",
       "50%        7.534780      7.595180      7.516370      7.528720      7.541610   \n",
       "75%        8.819990      8.773480      8.815770      8.832880      8.817730   \n",
       "max       14.598000     14.562600     14.600800     14.540900     14.545800   \n",
       "\n",
       "          GSM907824  \n",
       "count  33297.000000  \n",
       "mean       7.435333  \n",
       "std        2.123418  \n",
       "min        1.211350  \n",
       "25%        6.080080  \n",
       "50%        7.513190  \n",
       "75%        8.858490  \n",
       "max       14.621900  \n",
       "\n",
       "[8 rows x 79 columns]"
      ]
     },
     "execution_count": 6,
     "metadata": {},
     "output_type": "execute_result"
    }
   ],
   "source": [
    "data_all.describe()"
   ]
  },
  {
   "cell_type": "markdown",
   "id": "601897b8",
   "metadata": {},
   "source": [
    "Para cada um dos genes foi calculada a soma das expressões genéticas, a média, desvio-padrão, máximo, mínimo e quartis 25,50 e 75, cujos valores podem ser vizualizados na tabela acima.\n",
    "\n",
    "De seguida realiza-se o mesmo processo, mas desta vez, utilizando a transposta da matriz, de forma a que os pacientes se encontrem nas colunas e, consequentemente, possibilitando a sua análise."
   ]
  },
  {
   "cell_type": "code",
   "execution_count": 7,
   "id": "5824a162",
   "metadata": {},
   "outputs": [
    {
     "data": {
      "text/html": [
       "<div>\n",
       "<style scoped>\n",
       "    .dataframe tbody tr th:only-of-type {\n",
       "        vertical-align: middle;\n",
       "    }\n",
       "\n",
       "    .dataframe tbody tr th {\n",
       "        vertical-align: top;\n",
       "    }\n",
       "\n",
       "    .dataframe thead th {\n",
       "        text-align: right;\n",
       "    }\n",
       "</style>\n",
       "<table border=\"1\" class=\"dataframe\">\n",
       "  <thead>\n",
       "    <tr style=\"text-align: right;\">\n",
       "      <th></th>\n",
       "      <th>7896736</th>\n",
       "      <th>7896738</th>\n",
       "      <th>7896740</th>\n",
       "      <th>7896742</th>\n",
       "      <th>7896744</th>\n",
       "      <th>7896746</th>\n",
       "      <th>7896748</th>\n",
       "      <th>7896750</th>\n",
       "      <th>7896752</th>\n",
       "      <th>7896754</th>\n",
       "      <th>...</th>\n",
       "      <th>7896721</th>\n",
       "      <th>7896722</th>\n",
       "      <th>7896723</th>\n",
       "      <th>7896724</th>\n",
       "      <th>7896725</th>\n",
       "      <th>7896726</th>\n",
       "      <th>7896727</th>\n",
       "      <th>7896728</th>\n",
       "      <th>7896729</th>\n",
       "      <th>7896730</th>\n",
       "    </tr>\n",
       "  </thead>\n",
       "  <tbody>\n",
       "    <tr>\n",
       "      <th>GSM907858</th>\n",
       "      <td>7.98001</td>\n",
       "      <td>5.42206</td>\n",
       "      <td>6.74531</td>\n",
       "      <td>9.36478</td>\n",
       "      <td>8.22276</td>\n",
       "      <td>11.4596</td>\n",
       "      <td>11.5180</td>\n",
       "      <td>7.64615</td>\n",
       "      <td>11.3803</td>\n",
       "      <td>9.06383</td>\n",
       "      <td>...</td>\n",
       "      <td>3.76208</td>\n",
       "      <td>13.2728</td>\n",
       "      <td>8.97044</td>\n",
       "      <td>2.40846</td>\n",
       "      <td>6.51988</td>\n",
       "      <td>6.88170</td>\n",
       "      <td>11.0265</td>\n",
       "      <td>6.17211</td>\n",
       "      <td>4.13771</td>\n",
       "      <td>10.33020</td>\n",
       "    </tr>\n",
       "    <tr>\n",
       "      <th>GSM907859</th>\n",
       "      <td>7.76415</td>\n",
       "      <td>5.59312</td>\n",
       "      <td>7.63617</td>\n",
       "      <td>9.65509</td>\n",
       "      <td>8.20467</td>\n",
       "      <td>11.6957</td>\n",
       "      <td>12.0540</td>\n",
       "      <td>7.89694</td>\n",
       "      <td>11.7028</td>\n",
       "      <td>9.35470</td>\n",
       "      <td>...</td>\n",
       "      <td>3.66853</td>\n",
       "      <td>11.5884</td>\n",
       "      <td>8.92587</td>\n",
       "      <td>3.28424</td>\n",
       "      <td>6.53332</td>\n",
       "      <td>6.27732</td>\n",
       "      <td>12.1166</td>\n",
       "      <td>6.06534</td>\n",
       "      <td>3.13806</td>\n",
       "      <td>9.82129</td>\n",
       "    </tr>\n",
       "    <tr>\n",
       "      <th>GSM907860</th>\n",
       "      <td>7.54313</td>\n",
       "      <td>4.77380</td>\n",
       "      <td>6.46318</td>\n",
       "      <td>9.67887</td>\n",
       "      <td>7.77943</td>\n",
       "      <td>10.4939</td>\n",
       "      <td>11.7118</td>\n",
       "      <td>7.49320</td>\n",
       "      <td>10.7979</td>\n",
       "      <td>9.29488</td>\n",
       "      <td>...</td>\n",
       "      <td>4.87353</td>\n",
       "      <td>13.3604</td>\n",
       "      <td>8.85374</td>\n",
       "      <td>3.62692</td>\n",
       "      <td>6.43675</td>\n",
       "      <td>7.12140</td>\n",
       "      <td>10.8153</td>\n",
       "      <td>5.36129</td>\n",
       "      <td>3.89835</td>\n",
       "      <td>9.86729</td>\n",
       "    </tr>\n",
       "    <tr>\n",
       "      <th>GSM907854</th>\n",
       "      <td>7.84693</td>\n",
       "      <td>4.99679</td>\n",
       "      <td>6.50367</td>\n",
       "      <td>9.70713</td>\n",
       "      <td>7.97956</td>\n",
       "      <td>11.7290</td>\n",
       "      <td>10.8122</td>\n",
       "      <td>6.51592</td>\n",
       "      <td>10.6500</td>\n",
       "      <td>8.39569</td>\n",
       "      <td>...</td>\n",
       "      <td>4.01900</td>\n",
       "      <td>13.1274</td>\n",
       "      <td>8.91017</td>\n",
       "      <td>2.28737</td>\n",
       "      <td>6.24214</td>\n",
       "      <td>7.26194</td>\n",
       "      <td>10.9820</td>\n",
       "      <td>5.76673</td>\n",
       "      <td>4.15700</td>\n",
       "      <td>10.41410</td>\n",
       "    </tr>\n",
       "    <tr>\n",
       "      <th>GSM907855</th>\n",
       "      <td>7.49627</td>\n",
       "      <td>5.27858</td>\n",
       "      <td>6.47790</td>\n",
       "      <td>9.60505</td>\n",
       "      <td>7.72075</td>\n",
       "      <td>11.7883</td>\n",
       "      <td>12.6071</td>\n",
       "      <td>8.86244</td>\n",
       "      <td>11.9877</td>\n",
       "      <td>8.90165</td>\n",
       "      <td>...</td>\n",
       "      <td>3.68669</td>\n",
       "      <td>13.2012</td>\n",
       "      <td>8.84725</td>\n",
       "      <td>2.05437</td>\n",
       "      <td>6.33313</td>\n",
       "      <td>6.90213</td>\n",
       "      <td>11.1596</td>\n",
       "      <td>5.52088</td>\n",
       "      <td>3.27257</td>\n",
       "      <td>10.24450</td>\n",
       "    </tr>\n",
       "    <tr>\n",
       "      <th>...</th>\n",
       "      <td>...</td>\n",
       "      <td>...</td>\n",
       "      <td>...</td>\n",
       "      <td>...</td>\n",
       "      <td>...</td>\n",
       "      <td>...</td>\n",
       "      <td>...</td>\n",
       "      <td>...</td>\n",
       "      <td>...</td>\n",
       "      <td>...</td>\n",
       "      <td>...</td>\n",
       "      <td>...</td>\n",
       "      <td>...</td>\n",
       "      <td>...</td>\n",
       "      <td>...</td>\n",
       "      <td>...</td>\n",
       "      <td>...</td>\n",
       "      <td>...</td>\n",
       "      <td>...</td>\n",
       "      <td>...</td>\n",
       "      <td>...</td>\n",
       "    </tr>\n",
       "    <tr>\n",
       "      <th>GSM907812</th>\n",
       "      <td>6.95540</td>\n",
       "      <td>5.44083</td>\n",
       "      <td>6.67070</td>\n",
       "      <td>9.88431</td>\n",
       "      <td>7.61803</td>\n",
       "      <td>12.0339</td>\n",
       "      <td>12.0035</td>\n",
       "      <td>8.61276</td>\n",
       "      <td>11.3833</td>\n",
       "      <td>8.80323</td>\n",
       "      <td>...</td>\n",
       "      <td>3.86021</td>\n",
       "      <td>11.1038</td>\n",
       "      <td>8.79121</td>\n",
       "      <td>2.75378</td>\n",
       "      <td>6.38470</td>\n",
       "      <td>6.75482</td>\n",
       "      <td>12.1198</td>\n",
       "      <td>5.38678</td>\n",
       "      <td>3.21083</td>\n",
       "      <td>9.42717</td>\n",
       "    </tr>\n",
       "    <tr>\n",
       "      <th>GSM907815</th>\n",
       "      <td>7.23591</td>\n",
       "      <td>6.18140</td>\n",
       "      <td>7.57895</td>\n",
       "      <td>9.32089</td>\n",
       "      <td>8.20924</td>\n",
       "      <td>11.8705</td>\n",
       "      <td>12.4950</td>\n",
       "      <td>9.36375</td>\n",
       "      <td>11.6904</td>\n",
       "      <td>8.31892</td>\n",
       "      <td>...</td>\n",
       "      <td>4.06562</td>\n",
       "      <td>11.4758</td>\n",
       "      <td>8.61863</td>\n",
       "      <td>4.37118</td>\n",
       "      <td>6.15693</td>\n",
       "      <td>7.26043</td>\n",
       "      <td>11.8754</td>\n",
       "      <td>6.40212</td>\n",
       "      <td>2.95142</td>\n",
       "      <td>10.26290</td>\n",
       "    </tr>\n",
       "    <tr>\n",
       "      <th>GSM907817</th>\n",
       "      <td>7.17572</td>\n",
       "      <td>4.87187</td>\n",
       "      <td>5.91335</td>\n",
       "      <td>9.51553</td>\n",
       "      <td>6.48359</td>\n",
       "      <td>11.6622</td>\n",
       "      <td>12.1656</td>\n",
       "      <td>8.61259</td>\n",
       "      <td>11.6173</td>\n",
       "      <td>9.13228</td>\n",
       "      <td>...</td>\n",
       "      <td>4.05374</td>\n",
       "      <td>12.1153</td>\n",
       "      <td>8.60583</td>\n",
       "      <td>2.49209</td>\n",
       "      <td>6.62890</td>\n",
       "      <td>6.98721</td>\n",
       "      <td>12.2625</td>\n",
       "      <td>6.44424</td>\n",
       "      <td>4.49731</td>\n",
       "      <td>9.83096</td>\n",
       "    </tr>\n",
       "    <tr>\n",
       "      <th>GSM907821</th>\n",
       "      <td>7.01313</td>\n",
       "      <td>4.38672</td>\n",
       "      <td>5.32446</td>\n",
       "      <td>9.45983</td>\n",
       "      <td>7.09810</td>\n",
       "      <td>11.9706</td>\n",
       "      <td>11.5921</td>\n",
       "      <td>7.96598</td>\n",
       "      <td>11.2278</td>\n",
       "      <td>9.31604</td>\n",
       "      <td>...</td>\n",
       "      <td>4.31914</td>\n",
       "      <td>11.6207</td>\n",
       "      <td>8.79623</td>\n",
       "      <td>2.32753</td>\n",
       "      <td>5.90434</td>\n",
       "      <td>6.89384</td>\n",
       "      <td>11.9402</td>\n",
       "      <td>7.07677</td>\n",
       "      <td>3.59737</td>\n",
       "      <td>9.31227</td>\n",
       "    </tr>\n",
       "    <tr>\n",
       "      <th>GSM907824</th>\n",
       "      <td>6.91400</td>\n",
       "      <td>5.30893</td>\n",
       "      <td>5.93580</td>\n",
       "      <td>9.32106</td>\n",
       "      <td>6.80678</td>\n",
       "      <td>11.4539</td>\n",
       "      <td>11.7048</td>\n",
       "      <td>7.77960</td>\n",
       "      <td>10.7685</td>\n",
       "      <td>9.01715</td>\n",
       "      <td>...</td>\n",
       "      <td>4.21110</td>\n",
       "      <td>11.9827</td>\n",
       "      <td>8.57507</td>\n",
       "      <td>2.27500</td>\n",
       "      <td>6.30938</td>\n",
       "      <td>6.41416</td>\n",
       "      <td>12.0218</td>\n",
       "      <td>6.06081</td>\n",
       "      <td>3.78006</td>\n",
       "      <td>9.59383</td>\n",
       "    </tr>\n",
       "  </tbody>\n",
       "</table>\n",
       "<p>79 rows × 33297 columns</p>\n",
       "</div>"
      ],
      "text/plain": [
       "           7896736  7896738  7896740  7896742  7896744  7896746  7896748  \\\n",
       "GSM907858  7.98001  5.42206  6.74531  9.36478  8.22276  11.4596  11.5180   \n",
       "GSM907859  7.76415  5.59312  7.63617  9.65509  8.20467  11.6957  12.0540   \n",
       "GSM907860  7.54313  4.77380  6.46318  9.67887  7.77943  10.4939  11.7118   \n",
       "GSM907854  7.84693  4.99679  6.50367  9.70713  7.97956  11.7290  10.8122   \n",
       "GSM907855  7.49627  5.27858  6.47790  9.60505  7.72075  11.7883  12.6071   \n",
       "...            ...      ...      ...      ...      ...      ...      ...   \n",
       "GSM907812  6.95540  5.44083  6.67070  9.88431  7.61803  12.0339  12.0035   \n",
       "GSM907815  7.23591  6.18140  7.57895  9.32089  8.20924  11.8705  12.4950   \n",
       "GSM907817  7.17572  4.87187  5.91335  9.51553  6.48359  11.6622  12.1656   \n",
       "GSM907821  7.01313  4.38672  5.32446  9.45983  7.09810  11.9706  11.5921   \n",
       "GSM907824  6.91400  5.30893  5.93580  9.32106  6.80678  11.4539  11.7048   \n",
       "\n",
       "           7896750  7896752  7896754  ...  7896721  7896722  7896723  7896724  \\\n",
       "GSM907858  7.64615  11.3803  9.06383  ...  3.76208  13.2728  8.97044  2.40846   \n",
       "GSM907859  7.89694  11.7028  9.35470  ...  3.66853  11.5884  8.92587  3.28424   \n",
       "GSM907860  7.49320  10.7979  9.29488  ...  4.87353  13.3604  8.85374  3.62692   \n",
       "GSM907854  6.51592  10.6500  8.39569  ...  4.01900  13.1274  8.91017  2.28737   \n",
       "GSM907855  8.86244  11.9877  8.90165  ...  3.68669  13.2012  8.84725  2.05437   \n",
       "...            ...      ...      ...  ...      ...      ...      ...      ...   \n",
       "GSM907812  8.61276  11.3833  8.80323  ...  3.86021  11.1038  8.79121  2.75378   \n",
       "GSM907815  9.36375  11.6904  8.31892  ...  4.06562  11.4758  8.61863  4.37118   \n",
       "GSM907817  8.61259  11.6173  9.13228  ...  4.05374  12.1153  8.60583  2.49209   \n",
       "GSM907821  7.96598  11.2278  9.31604  ...  4.31914  11.6207  8.79623  2.32753   \n",
       "GSM907824  7.77960  10.7685  9.01715  ...  4.21110  11.9827  8.57507  2.27500   \n",
       "\n",
       "           7896725  7896726  7896727  7896728  7896729   7896730  \n",
       "GSM907858  6.51988  6.88170  11.0265  6.17211  4.13771  10.33020  \n",
       "GSM907859  6.53332  6.27732  12.1166  6.06534  3.13806   9.82129  \n",
       "GSM907860  6.43675  7.12140  10.8153  5.36129  3.89835   9.86729  \n",
       "GSM907854  6.24214  7.26194  10.9820  5.76673  4.15700  10.41410  \n",
       "GSM907855  6.33313  6.90213  11.1596  5.52088  3.27257  10.24450  \n",
       "...            ...      ...      ...      ...      ...       ...  \n",
       "GSM907812  6.38470  6.75482  12.1198  5.38678  3.21083   9.42717  \n",
       "GSM907815  6.15693  7.26043  11.8754  6.40212  2.95142  10.26290  \n",
       "GSM907817  6.62890  6.98721  12.2625  6.44424  4.49731   9.83096  \n",
       "GSM907821  5.90434  6.89384  11.9402  7.07677  3.59737   9.31227  \n",
       "GSM907824  6.30938  6.41416  12.0218  6.06081  3.78006   9.59383  \n",
       "\n",
       "[79 rows x 33297 columns]"
      ]
     },
     "execution_count": 7,
     "metadata": {},
     "output_type": "execute_result"
    }
   ],
   "source": [
    "# Descrição da base de dados associada aos pacientes\n",
    "data_transposed=data_all.transpose()\n",
    "data_transposed"
   ]
  },
  {
   "cell_type": "code",
   "execution_count": 8,
   "id": "d46aff3b",
   "metadata": {},
   "outputs": [
    {
     "data": {
      "text/html": [
       "<div>\n",
       "<style scoped>\n",
       "    .dataframe tbody tr th:only-of-type {\n",
       "        vertical-align: middle;\n",
       "    }\n",
       "\n",
       "    .dataframe tbody tr th {\n",
       "        vertical-align: top;\n",
       "    }\n",
       "\n",
       "    .dataframe thead th {\n",
       "        text-align: right;\n",
       "    }\n",
       "</style>\n",
       "<table border=\"1\" class=\"dataframe\">\n",
       "  <thead>\n",
       "    <tr style=\"text-align: right;\">\n",
       "      <th></th>\n",
       "      <th>7896736</th>\n",
       "      <th>7896738</th>\n",
       "      <th>7896740</th>\n",
       "      <th>7896742</th>\n",
       "      <th>7896744</th>\n",
       "      <th>7896746</th>\n",
       "      <th>7896748</th>\n",
       "      <th>7896750</th>\n",
       "      <th>7896752</th>\n",
       "      <th>7896754</th>\n",
       "      <th>...</th>\n",
       "      <th>7896721</th>\n",
       "      <th>7896722</th>\n",
       "      <th>7896723</th>\n",
       "      <th>7896724</th>\n",
       "      <th>7896725</th>\n",
       "      <th>7896726</th>\n",
       "      <th>7896727</th>\n",
       "      <th>7896728</th>\n",
       "      <th>7896729</th>\n",
       "      <th>7896730</th>\n",
       "    </tr>\n",
       "  </thead>\n",
       "  <tbody>\n",
       "    <tr>\n",
       "      <th>count</th>\n",
       "      <td>79.000000</td>\n",
       "      <td>79.000000</td>\n",
       "      <td>79.000000</td>\n",
       "      <td>79.000000</td>\n",
       "      <td>79.000000</td>\n",
       "      <td>79.000000</td>\n",
       "      <td>79.000000</td>\n",
       "      <td>79.000000</td>\n",
       "      <td>79.000000</td>\n",
       "      <td>79.000000</td>\n",
       "      <td>...</td>\n",
       "      <td>79.000000</td>\n",
       "      <td>79.000000</td>\n",
       "      <td>79.000000</td>\n",
       "      <td>79.000000</td>\n",
       "      <td>79.000000</td>\n",
       "      <td>79.000000</td>\n",
       "      <td>79.000000</td>\n",
       "      <td>79.000000</td>\n",
       "      <td>79.000000</td>\n",
       "      <td>79.000000</td>\n",
       "    </tr>\n",
       "    <tr>\n",
       "      <th>mean</th>\n",
       "      <td>7.464399</td>\n",
       "      <td>5.056055</td>\n",
       "      <td>6.232128</td>\n",
       "      <td>9.503825</td>\n",
       "      <td>7.388344</td>\n",
       "      <td>11.630057</td>\n",
       "      <td>11.826729</td>\n",
       "      <td>8.032444</td>\n",
       "      <td>11.260077</td>\n",
       "      <td>9.021659</td>\n",
       "      <td>...</td>\n",
       "      <td>3.800022</td>\n",
       "      <td>12.127838</td>\n",
       "      <td>8.833544</td>\n",
       "      <td>2.541659</td>\n",
       "      <td>6.250148</td>\n",
       "      <td>6.732019</td>\n",
       "      <td>11.888461</td>\n",
       "      <td>5.605934</td>\n",
       "      <td>3.586849</td>\n",
       "      <td>9.782239</td>\n",
       "    </tr>\n",
       "    <tr>\n",
       "      <th>std</th>\n",
       "      <td>0.366657</td>\n",
       "      <td>0.559722</td>\n",
       "      <td>0.746407</td>\n",
       "      <td>0.216061</td>\n",
       "      <td>0.580854</td>\n",
       "      <td>0.292885</td>\n",
       "      <td>0.622878</td>\n",
       "      <td>0.741444</td>\n",
       "      <td>0.439905</td>\n",
       "      <td>0.298644</td>\n",
       "      <td>...</td>\n",
       "      <td>0.656291</td>\n",
       "      <td>0.603434</td>\n",
       "      <td>0.138185</td>\n",
       "      <td>0.516889</td>\n",
       "      <td>0.195471</td>\n",
       "      <td>0.415352</td>\n",
       "      <td>0.469998</td>\n",
       "      <td>0.496740</td>\n",
       "      <td>0.512677</td>\n",
       "      <td>0.483195</td>\n",
       "    </tr>\n",
       "    <tr>\n",
       "      <th>min</th>\n",
       "      <td>6.790800</td>\n",
       "      <td>4.271100</td>\n",
       "      <td>5.113600</td>\n",
       "      <td>8.928650</td>\n",
       "      <td>5.636290</td>\n",
       "      <td>10.493900</td>\n",
       "      <td>9.681980</td>\n",
       "      <td>6.421820</td>\n",
       "      <td>10.250200</td>\n",
       "      <td>8.220070</td>\n",
       "      <td>...</td>\n",
       "      <td>2.267250</td>\n",
       "      <td>11.103800</td>\n",
       "      <td>8.487390</td>\n",
       "      <td>1.690070</td>\n",
       "      <td>5.783230</td>\n",
       "      <td>5.382480</td>\n",
       "      <td>9.796280</td>\n",
       "      <td>4.582190</td>\n",
       "      <td>2.442480</td>\n",
       "      <td>8.746000</td>\n",
       "    </tr>\n",
       "    <tr>\n",
       "      <th>25%</th>\n",
       "      <td>7.192155</td>\n",
       "      <td>4.705145</td>\n",
       "      <td>5.676070</td>\n",
       "      <td>9.377095</td>\n",
       "      <td>7.056825</td>\n",
       "      <td>11.443050</td>\n",
       "      <td>11.564350</td>\n",
       "      <td>7.505510</td>\n",
       "      <td>10.904350</td>\n",
       "      <td>8.812560</td>\n",
       "      <td>...</td>\n",
       "      <td>3.346925</td>\n",
       "      <td>11.615050</td>\n",
       "      <td>8.752520</td>\n",
       "      <td>2.207775</td>\n",
       "      <td>6.121340</td>\n",
       "      <td>6.484070</td>\n",
       "      <td>11.878900</td>\n",
       "      <td>5.268570</td>\n",
       "      <td>3.216080</td>\n",
       "      <td>9.496825</td>\n",
       "    </tr>\n",
       "    <tr>\n",
       "      <th>50%</th>\n",
       "      <td>7.496270</td>\n",
       "      <td>4.897310</td>\n",
       "      <td>6.000340</td>\n",
       "      <td>9.514190</td>\n",
       "      <td>7.463380</td>\n",
       "      <td>11.614100</td>\n",
       "      <td>11.966900</td>\n",
       "      <td>8.006670</td>\n",
       "      <td>11.309300</td>\n",
       "      <td>9.055490</td>\n",
       "      <td>...</td>\n",
       "      <td>3.860210</td>\n",
       "      <td>12.108900</td>\n",
       "      <td>8.848400</td>\n",
       "      <td>2.492090</td>\n",
       "      <td>6.251580</td>\n",
       "      <td>6.762460</td>\n",
       "      <td>12.000400</td>\n",
       "      <td>5.592600</td>\n",
       "      <td>3.485080</td>\n",
       "      <td>9.772240</td>\n",
       "    </tr>\n",
       "    <tr>\n",
       "      <th>75%</th>\n",
       "      <td>7.763465</td>\n",
       "      <td>5.309310</td>\n",
       "      <td>6.699895</td>\n",
       "      <td>9.628880</td>\n",
       "      <td>7.804480</td>\n",
       "      <td>11.831600</td>\n",
       "      <td>12.248600</td>\n",
       "      <td>8.543390</td>\n",
       "      <td>11.622450</td>\n",
       "      <td>9.250055</td>\n",
       "      <td>...</td>\n",
       "      <td>4.216225</td>\n",
       "      <td>12.589750</td>\n",
       "      <td>8.934015</td>\n",
       "      <td>2.795625</td>\n",
       "      <td>6.337400</td>\n",
       "      <td>6.985195</td>\n",
       "      <td>12.121450</td>\n",
       "      <td>5.898370</td>\n",
       "      <td>3.895520</td>\n",
       "      <td>10.062350</td>\n",
       "    </tr>\n",
       "    <tr>\n",
       "      <th>max</th>\n",
       "      <td>8.199800</td>\n",
       "      <td>6.673510</td>\n",
       "      <td>8.338200</td>\n",
       "      <td>10.010000</td>\n",
       "      <td>8.443910</td>\n",
       "      <td>12.362000</td>\n",
       "      <td>12.898600</td>\n",
       "      <td>9.631730</td>\n",
       "      <td>12.017800</td>\n",
       "      <td>9.647530</td>\n",
       "      <td>...</td>\n",
       "      <td>5.842170</td>\n",
       "      <td>13.374500</td>\n",
       "      <td>9.123590</td>\n",
       "      <td>4.371180</td>\n",
       "      <td>6.884280</td>\n",
       "      <td>7.521790</td>\n",
       "      <td>12.436600</td>\n",
       "      <td>7.076770</td>\n",
       "      <td>5.133590</td>\n",
       "      <td>11.145200</td>\n",
       "    </tr>\n",
       "  </tbody>\n",
       "</table>\n",
       "<p>8 rows × 33297 columns</p>\n",
       "</div>"
      ],
      "text/plain": [
       "         7896736    7896738    7896740    7896742    7896744    7896746  \\\n",
       "count  79.000000  79.000000  79.000000  79.000000  79.000000  79.000000   \n",
       "mean    7.464399   5.056055   6.232128   9.503825   7.388344  11.630057   \n",
       "std     0.366657   0.559722   0.746407   0.216061   0.580854   0.292885   \n",
       "min     6.790800   4.271100   5.113600   8.928650   5.636290  10.493900   \n",
       "25%     7.192155   4.705145   5.676070   9.377095   7.056825  11.443050   \n",
       "50%     7.496270   4.897310   6.000340   9.514190   7.463380  11.614100   \n",
       "75%     7.763465   5.309310   6.699895   9.628880   7.804480  11.831600   \n",
       "max     8.199800   6.673510   8.338200  10.010000   8.443910  12.362000   \n",
       "\n",
       "         7896748    7896750    7896752    7896754  ...    7896721    7896722  \\\n",
       "count  79.000000  79.000000  79.000000  79.000000  ...  79.000000  79.000000   \n",
       "mean   11.826729   8.032444  11.260077   9.021659  ...   3.800022  12.127838   \n",
       "std     0.622878   0.741444   0.439905   0.298644  ...   0.656291   0.603434   \n",
       "min     9.681980   6.421820  10.250200   8.220070  ...   2.267250  11.103800   \n",
       "25%    11.564350   7.505510  10.904350   8.812560  ...   3.346925  11.615050   \n",
       "50%    11.966900   8.006670  11.309300   9.055490  ...   3.860210  12.108900   \n",
       "75%    12.248600   8.543390  11.622450   9.250055  ...   4.216225  12.589750   \n",
       "max    12.898600   9.631730  12.017800   9.647530  ...   5.842170  13.374500   \n",
       "\n",
       "         7896723    7896724    7896725    7896726    7896727    7896728  \\\n",
       "count  79.000000  79.000000  79.000000  79.000000  79.000000  79.000000   \n",
       "mean    8.833544   2.541659   6.250148   6.732019  11.888461   5.605934   \n",
       "std     0.138185   0.516889   0.195471   0.415352   0.469998   0.496740   \n",
       "min     8.487390   1.690070   5.783230   5.382480   9.796280   4.582190   \n",
       "25%     8.752520   2.207775   6.121340   6.484070  11.878900   5.268570   \n",
       "50%     8.848400   2.492090   6.251580   6.762460  12.000400   5.592600   \n",
       "75%     8.934015   2.795625   6.337400   6.985195  12.121450   5.898370   \n",
       "max     9.123590   4.371180   6.884280   7.521790  12.436600   7.076770   \n",
       "\n",
       "         7896729    7896730  \n",
       "count  79.000000  79.000000  \n",
       "mean    3.586849   9.782239  \n",
       "std     0.512677   0.483195  \n",
       "min     2.442480   8.746000  \n",
       "25%     3.216080   9.496825  \n",
       "50%     3.485080   9.772240  \n",
       "75%     3.895520  10.062350  \n",
       "max     5.133590  11.145200  \n",
       "\n",
       "[8 rows x 33297 columns]"
      ]
     },
     "execution_count": 8,
     "metadata": {},
     "output_type": "execute_result"
    }
   ],
   "source": [
    "data_transposed.describe()"
   ]
  },
  {
   "cell_type": "markdown",
   "id": "27ed455a",
   "metadata": {},
   "source": [
    "Na tabela acima podemos verificar a soma total dos valores de expressão genética obtidos para od diferentes pacientes utilizados no estudo, como também a média, desvio-padrão, máximo, mínimo e quartis 25, 50 e 75."
   ]
  },
  {
   "cell_type": "markdown",
   "id": "f43d5e3a",
   "metadata": {},
   "source": [
    "### 1.2.2. Exploração dos meta-dados"
   ]
  },
  {
   "cell_type": "markdown",
   "id": "e98bc635",
   "metadata": {},
   "source": [
    "De seguida foi efetuada uma exploração mais detalhada dos meta-dados, cuja visualização geral se encontra na seguinte tabela."
   ]
  },
  {
   "cell_type": "code",
   "execution_count": 9,
   "id": "6c2b629e",
   "metadata": {},
   "outputs": [
    {
     "data": {
      "text/html": [
       "<div>\n",
       "<style scoped>\n",
       "    .dataframe tbody tr th:only-of-type {\n",
       "        vertical-align: middle;\n",
       "    }\n",
       "\n",
       "    .dataframe tbody tr th {\n",
       "        vertical-align: top;\n",
       "    }\n",
       "\n",
       "    .dataframe thead th {\n",
       "        text-align: right;\n",
       "    }\n",
       "</style>\n",
       "<table border=\"1\" class=\"dataframe\">\n",
       "  <thead>\n",
       "    <tr style=\"text-align: right;\">\n",
       "      <th></th>\n",
       "      <th>sample</th>\n",
       "      <th>disease.state</th>\n",
       "      <th>tissue</th>\n",
       "      <th>gender</th>\n",
       "      <th>description</th>\n",
       "    </tr>\n",
       "  </thead>\n",
       "  <tbody>\n",
       "    <tr>\n",
       "      <th>GSM907858</th>\n",
       "      <td>GSM907858</td>\n",
       "      <td>Alzheimer's disease</td>\n",
       "      <td>hippocampus</td>\n",
       "      <td>male</td>\n",
       "      <td>Value for GSM907858: AD_HI, biological rep5; s...</td>\n",
       "    </tr>\n",
       "    <tr>\n",
       "      <th>GSM907859</th>\n",
       "      <td>GSM907859</td>\n",
       "      <td>Alzheimer's disease</td>\n",
       "      <td>hippocampus</td>\n",
       "      <td>male</td>\n",
       "      <td>Value for GSM907859: AD_HI, biological rep6; s...</td>\n",
       "    </tr>\n",
       "    <tr>\n",
       "      <th>GSM907860</th>\n",
       "      <td>GSM907860</td>\n",
       "      <td>Alzheimer's disease</td>\n",
       "      <td>hippocampus</td>\n",
       "      <td>male</td>\n",
       "      <td>Value for GSM907860: AD_HI, biological rep7; s...</td>\n",
       "    </tr>\n",
       "    <tr>\n",
       "      <th>GSM907854</th>\n",
       "      <td>GSM907854</td>\n",
       "      <td>Alzheimer's disease</td>\n",
       "      <td>hippocampus</td>\n",
       "      <td>female</td>\n",
       "      <td>Value for GSM907854: AD_HI, biological rep1; s...</td>\n",
       "    </tr>\n",
       "    <tr>\n",
       "      <th>GSM907855</th>\n",
       "      <td>GSM907855</td>\n",
       "      <td>Alzheimer's disease</td>\n",
       "      <td>hippocampus</td>\n",
       "      <td>female</td>\n",
       "      <td>Value for GSM907855: AD_HI, biological rep2; s...</td>\n",
       "    </tr>\n",
       "  </tbody>\n",
       "</table>\n",
       "</div>"
      ],
      "text/plain": [
       "              sample        disease.state       tissue  gender  \\\n",
       "GSM907858  GSM907858  Alzheimer's disease  hippocampus    male   \n",
       "GSM907859  GSM907859  Alzheimer's disease  hippocampus    male   \n",
       "GSM907860  GSM907860  Alzheimer's disease  hippocampus    male   \n",
       "GSM907854  GSM907854  Alzheimer's disease  hippocampus  female   \n",
       "GSM907855  GSM907855  Alzheimer's disease  hippocampus  female   \n",
       "\n",
       "                                                 description  \n",
       "GSM907858  Value for GSM907858: AD_HI, biological rep5; s...  \n",
       "GSM907859  Value for GSM907859: AD_HI, biological rep6; s...  \n",
       "GSM907860  Value for GSM907860: AD_HI, biological rep7; s...  \n",
       "GSM907854  Value for GSM907854: AD_HI, biological rep1; s...  \n",
       "GSM907855  Value for GSM907855: AD_HI, biological rep2; s...  "
      ]
     },
     "execution_count": 9,
     "metadata": {},
     "output_type": "execute_result"
    }
   ],
   "source": [
    "meta_all.head()"
   ]
  },
  {
   "cell_type": "code",
   "execution_count": 10,
   "id": "90d5d696",
   "metadata": {},
   "outputs": [
    {
     "data": {
      "text/plain": [
       "sample           object\n",
       "disease.state    object\n",
       "tissue           object\n",
       "gender           object\n",
       "description      object\n",
       "dtype: object"
      ]
     },
     "execution_count": 10,
     "metadata": {},
     "output_type": "execute_result"
    }
   ],
   "source": [
    "meta_all.dtypes"
   ]
  },
  {
   "cell_type": "markdown",
   "id": "5a4bdb00",
   "metadata": {},
   "source": [
    "Daqui podemos verificar que todos os dados presentes no dataset dos meta-dados é do tipo \"object\" logo, todas as colunas contêm informações de texto e/ ou uma combinação de diferentes tipos de dados."
   ]
  },
  {
   "cell_type": "code",
   "execution_count": 11,
   "id": "dadfa21e",
   "metadata": {},
   "outputs": [
    {
     "data": {
      "text/html": [
       "<div>\n",
       "<style scoped>\n",
       "    .dataframe tbody tr th:only-of-type {\n",
       "        vertical-align: middle;\n",
       "    }\n",
       "\n",
       "    .dataframe tbody tr th {\n",
       "        vertical-align: top;\n",
       "    }\n",
       "\n",
       "    .dataframe thead th {\n",
       "        text-align: right;\n",
       "    }\n",
       "</style>\n",
       "<table border=\"1\" class=\"dataframe\">\n",
       "  <thead>\n",
       "    <tr style=\"text-align: right;\">\n",
       "      <th></th>\n",
       "      <th>sample</th>\n",
       "      <th>disease.state</th>\n",
       "      <th>tissue</th>\n",
       "      <th>gender</th>\n",
       "      <th>description</th>\n",
       "    </tr>\n",
       "  </thead>\n",
       "  <tbody>\n",
       "    <tr>\n",
       "      <th>count</th>\n",
       "      <td>79</td>\n",
       "      <td>79</td>\n",
       "      <td>79</td>\n",
       "      <td>79</td>\n",
       "      <td>79</td>\n",
       "    </tr>\n",
       "    <tr>\n",
       "      <th>unique</th>\n",
       "      <td>79</td>\n",
       "      <td>2</td>\n",
       "      <td>3</td>\n",
       "      <td>2</td>\n",
       "      <td>79</td>\n",
       "    </tr>\n",
       "    <tr>\n",
       "      <th>top</th>\n",
       "      <td>GSM907858</td>\n",
       "      <td>non-Alzheimer's disease</td>\n",
       "      <td>frontal cortex</td>\n",
       "      <td>female</td>\n",
       "      <td>Value for GSM907858: AD_HI, biological rep5; s...</td>\n",
       "    </tr>\n",
       "    <tr>\n",
       "      <th>freq</th>\n",
       "      <td>1</td>\n",
       "      <td>47</td>\n",
       "      <td>33</td>\n",
       "      <td>42</td>\n",
       "      <td>1</td>\n",
       "    </tr>\n",
       "  </tbody>\n",
       "</table>\n",
       "</div>"
      ],
      "text/plain": [
       "           sample            disease.state          tissue  gender  \\\n",
       "count          79                       79              79      79   \n",
       "unique         79                        2               3       2   \n",
       "top     GSM907858  non-Alzheimer's disease  frontal cortex  female   \n",
       "freq            1                       47              33      42   \n",
       "\n",
       "                                              description  \n",
       "count                                                  79  \n",
       "unique                                                 79  \n",
       "top     Value for GSM907858: AD_HI, biological rep5; s...  \n",
       "freq                                                    1  "
      ]
     },
     "execution_count": 11,
     "metadata": {},
     "output_type": "execute_result"
    }
   ],
   "source": [
    "meta_all.describe(include = \"all\")"
   ]
  },
  {
   "cell_type": "markdown",
   "id": "e605e7a3",
   "metadata": {},
   "source": [
    "Da descrição realizada dos meta-dados, verifica-se a existência de 79 amostras distintas de genes (\"sample\"). \n",
    "\n",
    "A variável \"disease.state\" também é composta por 79 amostras, podendo ser representado por dois valores distintos. Para além disso, verifica-se uma maior ocorrência de amostras não identificadoras da doença do Alzeihmer, com 47 amostras. Daqui podemos retirar que existem 22 amostras de genes que identificam esta doença. \n",
    "\n",
    "Relativamente à variável \"tissue\", esta é composta por 79 amostras, que podem adotar 3 valores distintos, sendo o tecido do córtex frontal o mais comum, com 33 amostras. \n",
    "\n",
    "Relativamente à variável \"description\", podemos verificar a existência de 79 amostras únicas, o que acentua o facto de a cada amostra estar associada uma descrição."
   ]
  },
  {
   "cell_type": "markdown",
   "id": "8610e5de",
   "metadata": {},
   "source": [
    "### 1.3. Representação gráfica de meta-dados."
   ]
  },
  {
   "cell_type": "markdown",
   "id": "edef9161",
   "metadata": {},
   "source": [
    "De seguida tornou-se importante verificar a proporção exata de cada valor para as diferentes variáveis e, como forma de permitir uma visualização mais rápida destes valores, procedeu-se à realização de um gráfico circular com a percentagem associada a cada uma. "
   ]
  },
  {
   "cell_type": "markdown",
   "id": "8aa83970",
   "metadata": {},
   "source": [
    "Representação da proporção de pacientes dos diferentes géneros. "
   ]
  },
  {
   "cell_type": "code",
   "execution_count": 12,
   "id": "33bda379",
   "metadata": {},
   "outputs": [
    {
     "data": {
      "text/plain": [
       "gender\n",
       "female    42\n",
       "male      37\n",
       "dtype: int64"
      ]
     },
     "execution_count": 12,
     "metadata": {},
     "output_type": "execute_result"
    }
   ],
   "source": [
    "meta_all.groupby(\"gender\").size() "
   ]
  },
  {
   "cell_type": "code",
   "execution_count": 13,
   "id": "5ab88142",
   "metadata": {},
   "outputs": [
    {
     "data": {
      "text/plain": [
       "<Axes: >"
      ]
     },
     "execution_count": 13,
     "metadata": {},
     "output_type": "execute_result"
    },
    {
     "data": {
      "image/png": "[encoded data removed]",
      "text/plain": [
       "<Figure size 640x480 with 1 Axes>"
      ]
     },
     "metadata": {},
     "output_type": "display_data"
    }
   ],
   "source": [
    "meta_all.groupby(\"gender\").size().plot.pie(autopct='%.0f%%')"
   ]
  },
  {
   "cell_type": "markdown",
   "id": "36ac88a8",
   "metadata": {},
   "source": [
    "Tal como visto anteriormente, neste estudo foram consideradas mais amostras de mulheres do que de homens."
   ]
  },
  {
   "cell_type": "markdown",
   "id": "d7c566fd",
   "metadata": {},
   "source": [
    "De seguida encontra-se efetuada a proporção de amostras que identificam a doença do Alzheimer e as que não."
   ]
  },
  {
   "cell_type": "code",
   "execution_count": 14,
   "id": "5794cd96",
   "metadata": {},
   "outputs": [
    {
     "data": {
      "text/plain": [
       "disease.state\n",
       "Alzheimer's disease        32\n",
       "non-Alzheimer's disease    47\n",
       "dtype: int64"
      ]
     },
     "execution_count": 14,
     "metadata": {},
     "output_type": "execute_result"
    }
   ],
   "source": [
    "meta_all.groupby(\"disease.state\").size()"
   ]
  },
  {
   "cell_type": "code",
   "execution_count": 15,
   "id": "71ada16a",
   "metadata": {},
   "outputs": [
    {
     "data": {
      "text/plain": [
       "<Axes: >"
      ]
     },
     "execution_count": 15,
     "metadata": {},
     "output_type": "execute_result"
    },
    {
     "data": {
      "image/png": "[encoded data removed]",
      "text/plain": [
       "<Figure size 640x480 with 1 Axes>"
      ]
     },
     "metadata": {},
     "output_type": "display_data"
    }
   ],
   "source": [
    "meta_all.groupby(\"disease.state\").size().plot.pie(autopct='%.0f%%')"
   ]
  },
  {
   "cell_type": "markdown",
   "id": "71cf672e",
   "metadata": {},
   "source": [
    "Pela análise do gráfico podemos verificar que 59% das amostras são amostras de genes que não estão associados à doença do Alzheimer."
   ]
  },
  {
   "cell_type": "markdown",
   "id": "3679c296",
   "metadata": {},
   "source": [
    "Por fim, foi feito o mesmo procedimento para a variável \"tissue\"."
   ]
  },
  {
   "cell_type": "code",
   "execution_count": 16,
   "id": "b61fd4ba",
   "metadata": {
    "scrolled": true
   },
   "outputs": [
    {
     "data": {
      "text/plain": [
       "tissue\n",
       "frontal cortex     33\n",
       "hippocampus        17\n",
       "temporal cortex    29\n",
       "dtype: int64"
      ]
     },
     "execution_count": 16,
     "metadata": {},
     "output_type": "execute_result"
    }
   ],
   "source": [
    "meta_all.groupby(\"tissue\").size()"
   ]
  },
  {
   "cell_type": "code",
   "execution_count": 17,
   "id": "76dcfe8c",
   "metadata": {},
   "outputs": [
    {
     "data": {
      "text/plain": [
       "<Axes: >"
      ]
     },
     "execution_count": 17,
     "metadata": {},
     "output_type": "execute_result"
    },
    {
     "data": {
      "image/png": "[encoded data removed]",
      "text/plain": [
       "<Figure size 640x480 with 1 Axes>"
      ]
     },
     "metadata": {},
     "output_type": "display_data"
    }
   ],
   "source": [
    "meta_all.groupby(\"tissue\").size().plot.pie(autopct='%.0f%%')"
   ]
  },
  {
   "cell_type": "markdown",
   "id": "20f2e2d2",
   "metadata": {},
   "source": [
    "Da análise do gráfico retira-se a existência de mais amostras relativas ao córtex frontal (42%), seguindo-se pelo córtex temporal, com 37% e, por fim, o hipocampo, com 22%."
   ]
  },
  {
   "cell_type": "markdown",
   "id": "80be2e15",
   "metadata": {},
   "source": [
    "### 1.4. Relações entre variáveis"
   ]
  },
  {
   "cell_type": "markdown",
   "id": "48796601",
   "metadata": {},
   "source": [
    "Como forma a conseguir verificar a existência de alguma relação entre a progressão da doença do Alzheimer e o tecido onde se processa a alteração genética. Isto torna-se particularmente importante no sentido em que conseguindo associar uma maior tendência de progressão num determinado tecido, o diagnóstico ou predisposição para ter doença torna-se muito mais precoce.\n",
    "Para tal é necessário agrupar, em primeiro lugar, os metadados por \"disease.state\" e contar o número de amostras pertencentes a cada um dos tecidos para a existência ou não da doença do Alzheimer."
   ]
  },
  {
   "cell_type": "code",
   "execution_count": 18,
   "id": "87b90734",
   "metadata": {},
   "outputs": [
    {
     "data": {
      "text/html": [
       "<div>\n",
       "<style scoped>\n",
       "    .dataframe tbody tr th:only-of-type {\n",
       "        vertical-align: middle;\n",
       "    }\n",
       "\n",
       "    .dataframe tbody tr th {\n",
       "        vertical-align: top;\n",
       "    }\n",
       "\n",
       "    .dataframe thead th {\n",
       "        text-align: right;\n",
       "    }\n",
       "</style>\n",
       "<table border=\"1\" class=\"dataframe\">\n",
       "  <thead>\n",
       "    <tr style=\"text-align: right;\">\n",
       "      <th>tissue</th>\n",
       "      <th>frontal cortex</th>\n",
       "      <th>hippocampus</th>\n",
       "      <th>temporal cortex</th>\n",
       "    </tr>\n",
       "    <tr>\n",
       "      <th>disease.state</th>\n",
       "      <th></th>\n",
       "      <th></th>\n",
       "      <th></th>\n",
       "    </tr>\n",
       "  </thead>\n",
       "  <tbody>\n",
       "    <tr>\n",
       "      <th>Alzheimer's disease</th>\n",
       "      <td>15</td>\n",
       "      <td>7</td>\n",
       "      <td>10</td>\n",
       "    </tr>\n",
       "    <tr>\n",
       "      <th>non-Alzheimer's disease</th>\n",
       "      <td>18</td>\n",
       "      <td>10</td>\n",
       "      <td>19</td>\n",
       "    </tr>\n",
       "  </tbody>\n",
       "</table>\n",
       "</div>"
      ],
      "text/plain": [
       "tissue                   frontal cortex  hippocampus  temporal cortex\n",
       "disease.state                                                        \n",
       "Alzheimer's disease                  15            7               10\n",
       "non-Alzheimer's disease              18           10               19"
      ]
     },
     "execution_count": 18,
     "metadata": {},
     "output_type": "execute_result"
    }
   ],
   "source": [
    "group_by_disease=meta_all.groupby(['disease.state','tissue']).size().unstack()\n",
    "group_by_disease"
   ]
  },
  {
   "cell_type": "markdown",
   "id": "7527cde3",
   "metadata": {},
   "source": [
    "Para uma mais fácil visualização dos dados realizou-se um gráfico de barras."
   ]
  },
  {
   "cell_type": "code",
   "execution_count": 19,
   "id": "3f62b402",
   "metadata": {},
   "outputs": [
    {
     "data": {
      "text/plain": [
       "<matplotlib.legend.Legend at 0x1cad3104b50>"
      ]
     },
     "execution_count": 19,
     "metadata": {},
     "output_type": "execute_result"
    },
    {
     "data": {
      "image/png": "[encoded data removed]",
      "text/plain": [
       "<Figure size 640x480 with 1 Axes>"
      ]
     },
     "metadata": {},
     "output_type": "display_data"
    }
   ],
   "source": [
    "group_by_disease.plot.bar()\n",
    "\n",
    "plt.title('Relationship between the state of disease and tissue')\n",
    "plt.xlabel('Disease.state')\n",
    "plt.ylabel ('Number of samples')\n",
    "plt.legend(title='tissue', loc='upper left')"
   ]
  },
  {
   "cell_type": "markdown",
   "id": "20cc3724",
   "metadata": {},
   "source": [
    "Pela análise deste gráfico podemos verificar que os genes expressos para doenças que não o Alzheimer apresentam maior prevalência no córtex temporal, em comparação com os que expressam esta doença. Em contrapartida, nos restantes tipos de tecidos, a prevalência destes dois grupos de genes é semelhante.\n",
    "Deve-se, ainda salientar que, devido ao facto deste dataset ser relativamente pequeno não se pode fazer uma extrapolação generalista destas conclusões, devendo ser recolhidos mais amostras para este fim. "
   ]
  },
  {
   "cell_type": "markdown",
   "id": "6993d1ad",
   "metadata": {},
   "source": [
    "Por outro lado, tornou-se essencial realizar também uma avaliação da relação entre a existência desta doença e o género da pessoa, como forma de verificar se haveria alguma diferença significativa, de onde pudessem ser retiradas conclusões acerca da predisposição ao desenvolvimento de Alzheimer por género. "
   ]
  },
  {
   "cell_type": "code",
   "execution_count": 20,
   "id": "fed61936",
   "metadata": {},
   "outputs": [
    {
     "data": {
      "text/html": [
       "<div>\n",
       "<style scoped>\n",
       "    .dataframe tbody tr th:only-of-type {\n",
       "        vertical-align: middle;\n",
       "    }\n",
       "\n",
       "    .dataframe tbody tr th {\n",
       "        vertical-align: top;\n",
       "    }\n",
       "\n",
       "    .dataframe thead th {\n",
       "        text-align: right;\n",
       "    }\n",
       "</style>\n",
       "<table border=\"1\" class=\"dataframe\">\n",
       "  <thead>\n",
       "    <tr style=\"text-align: right;\">\n",
       "      <th>gender</th>\n",
       "      <th>female</th>\n",
       "      <th>male</th>\n",
       "    </tr>\n",
       "    <tr>\n",
       "      <th>disease.state</th>\n",
       "      <th></th>\n",
       "      <th></th>\n",
       "    </tr>\n",
       "  </thead>\n",
       "  <tbody>\n",
       "    <tr>\n",
       "      <th>Alzheimer's disease</th>\n",
       "      <td>17</td>\n",
       "      <td>15</td>\n",
       "    </tr>\n",
       "    <tr>\n",
       "      <th>non-Alzheimer's disease</th>\n",
       "      <td>25</td>\n",
       "      <td>22</td>\n",
       "    </tr>\n",
       "  </tbody>\n",
       "</table>\n",
       "</div>"
      ],
      "text/plain": [
       "gender                   female  male\n",
       "disease.state                        \n",
       "Alzheimer's disease          17    15\n",
       "non-Alzheimer's disease      25    22"
      ]
     },
     "execution_count": 20,
     "metadata": {},
     "output_type": "execute_result"
    }
   ],
   "source": [
    "group_by_disease=meta_all.groupby(['disease.state','gender']).size().unstack()\n",
    "group_by_disease"
   ]
  },
  {
   "cell_type": "code",
   "execution_count": 21,
   "id": "e611ec06",
   "metadata": {},
   "outputs": [
    {
     "data": {
      "text/plain": [
       "<matplotlib.legend.Legend at 0x1cac7f67510>"
      ]
     },
     "execution_count": 21,
     "metadata": {},
     "output_type": "execute_result"
    },
    {
     "data": {
      "image/png": "[encoded data removed]",
      "text/plain": [
       "<Figure size 640x480 with 1 Axes>"
      ]
     },
     "metadata": {},
     "output_type": "display_data"
    }
   ],
   "source": [
    "group_by_disease.plot.bar()\n",
    "\n",
    "plt.title(\"Relationship between the state of disease and people's gender\")\n",
    "plt.xlabel('Disease.state')\n",
    "plt.ylabel ('Number of samples')\n",
    "plt.legend(title='gender', loc='upper left')"
   ]
  },
  {
   "cell_type": "markdown",
   "id": "e8b2e840",
   "metadata": {},
   "source": [
    "Pela análise do gráfico, podemos verificar que não existem diferenças significativas entre os géneros que pudessem levar à retirada de alguma conclusão sólida acerca desta predisposição de ter ou não Alzheimer consoante o género. No entanto verifica-se uma menor proporção de homens a desenvolver doença do Alzheimer ou semelhantes, na população tida em conta no estudo de Hisayama. "
   ]
  },
  {
   "cell_type": "markdown",
   "id": "7ad1af2d",
   "metadata": {},
   "source": [
    "### 1.5. Tratamento de Dados"
   ]
  },
  {
   "cell_type": "markdown",
   "id": "9b04b893",
   "metadata": {},
   "source": [
    "### 1.5.1. Verificação da existência de valores nulos"
   ]
  },
  {
   "cell_type": "code",
   "execution_count": 22,
   "id": "2bdfea50",
   "metadata": {},
   "outputs": [
    {
     "data": {
      "text/plain": [
       "0"
      ]
     },
     "execution_count": 22,
     "metadata": {},
     "output_type": "execute_result"
    }
   ],
   "source": [
    "data_all.isnull().sum().sum()"
   ]
  },
  {
   "cell_type": "code",
   "execution_count": 23,
   "id": "e130d93b",
   "metadata": {},
   "outputs": [
    {
     "data": {
      "text/plain": [
       "0"
      ]
     },
     "execution_count": 23,
     "metadata": {},
     "output_type": "execute_result"
    }
   ],
   "source": [
    "meta_all.isnull().sum().sum()"
   ]
  },
  {
   "cell_type": "markdown",
   "id": "c6527489",
   "metadata": {},
   "source": [
    "Não há missing values nos dois datasets"
   ]
  },
  {
   "cell_type": "markdown",
   "id": "586972ea",
   "metadata": {},
   "source": [
    "### 1.5.2. Análise de genes de maior relevância: Testes Estatísticos Univariados"
   ]
  },
  {
   "cell_type": "markdown",
   "id": "1ec9e77d",
   "metadata": {},
   "source": [
    "A realização destes testes estatísticos permite a identificação dos genes com maior relevância para os dados. Para tal utilizam-se métodos de SelectKBest para avaliar cada uma das colunas (genes) individualmente, selecionando-se, por fim, os genes com uma melhor pontuação. Neste caso, pretende-se selecionar os 10 genes com maior pontuação."
   ]
  },
  {
   "cell_type": "code",
   "execution_count": 24,
   "id": "076fe4c4",
   "metadata": {},
   "outputs": [
    {
     "name": "stdout",
     "output_type": "stream",
     "text": [
      "(33297, 10)\n"
     ]
    },
    {
     "data": {
      "text/html": [
       "<div>\n",
       "<style scoped>\n",
       "    .dataframe tbody tr th:only-of-type {\n",
       "        vertical-align: middle;\n",
       "    }\n",
       "\n",
       "    .dataframe tbody tr th {\n",
       "        vertical-align: top;\n",
       "    }\n",
       "\n",
       "    .dataframe thead th {\n",
       "        text-align: right;\n",
       "    }\n",
       "</style>\n",
       "<table border=\"1\" class=\"dataframe\">\n",
       "  <thead>\n",
       "    <tr style=\"text-align: right;\">\n",
       "      <th></th>\n",
       "      <th>GSM907859</th>\n",
       "      <th>GSM907854</th>\n",
       "      <th>GSM907855</th>\n",
       "      <th>GSM907856</th>\n",
       "      <th>GSM907868</th>\n",
       "      <th>GSM907861</th>\n",
       "      <th>GSM907866</th>\n",
       "      <th>GSM907867</th>\n",
       "      <th>GSM907848</th>\n",
       "      <th>GSM907850</th>\n",
       "    </tr>\n",
       "  </thead>\n",
       "  <tbody>\n",
       "    <tr>\n",
       "      <th>7896736</th>\n",
       "      <td>7.76415</td>\n",
       "      <td>7.84693</td>\n",
       "      <td>7.49627</td>\n",
       "      <td>7.92109</td>\n",
       "      <td>7.63609</td>\n",
       "      <td>7.85956</td>\n",
       "      <td>7.56421</td>\n",
       "      <td>7.53737</td>\n",
       "      <td>7.54838</td>\n",
       "      <td>7.80269</td>\n",
       "    </tr>\n",
       "    <tr>\n",
       "      <th>7896738</th>\n",
       "      <td>5.59312</td>\n",
       "      <td>4.99679</td>\n",
       "      <td>5.27858</td>\n",
       "      <td>6.12362</td>\n",
       "      <td>4.70477</td>\n",
       "      <td>4.27110</td>\n",
       "      <td>5.04284</td>\n",
       "      <td>4.93904</td>\n",
       "      <td>4.69673</td>\n",
       "      <td>4.57663</td>\n",
       "    </tr>\n",
       "    <tr>\n",
       "      <th>7896740</th>\n",
       "      <td>7.63617</td>\n",
       "      <td>6.50367</td>\n",
       "      <td>6.47790</td>\n",
       "      <td>7.64459</td>\n",
       "      <td>5.83269</td>\n",
       "      <td>5.61101</td>\n",
       "      <td>7.08469</td>\n",
       "      <td>6.24267</td>\n",
       "      <td>6.00034</td>\n",
       "      <td>5.13058</td>\n",
       "    </tr>\n",
       "    <tr>\n",
       "      <th>7896742</th>\n",
       "      <td>9.65509</td>\n",
       "      <td>9.70713</td>\n",
       "      <td>9.60505</td>\n",
       "      <td>9.46327</td>\n",
       "      <td>9.29908</td>\n",
       "      <td>9.25257</td>\n",
       "      <td>9.65281</td>\n",
       "      <td>9.53904</td>\n",
       "      <td>9.61598</td>\n",
       "      <td>9.50918</td>\n",
       "    </tr>\n",
       "    <tr>\n",
       "      <th>7896744</th>\n",
       "      <td>8.20467</td>\n",
       "      <td>7.97956</td>\n",
       "      <td>7.72075</td>\n",
       "      <td>8.23660</td>\n",
       "      <td>6.93351</td>\n",
       "      <td>7.40310</td>\n",
       "      <td>7.54853</td>\n",
       "      <td>6.77204</td>\n",
       "      <td>8.11177</td>\n",
       "      <td>7.06455</td>\n",
       "    </tr>\n",
       "  </tbody>\n",
       "</table>\n",
       "</div>"
      ],
      "text/plain": [
       "         GSM907859  GSM907854  GSM907855  GSM907856  GSM907868  GSM907861  \\\n",
       "7896736    7.76415    7.84693    7.49627    7.92109    7.63609    7.85956   \n",
       "7896738    5.59312    4.99679    5.27858    6.12362    4.70477    4.27110   \n",
       "7896740    7.63617    6.50367    6.47790    7.64459    5.83269    5.61101   \n",
       "7896742    9.65509    9.70713    9.60505    9.46327    9.29908    9.25257   \n",
       "7896744    8.20467    7.97956    7.72075    8.23660    6.93351    7.40310   \n",
       "\n",
       "         GSM907866  GSM907867  GSM907848  GSM907850  \n",
       "7896736    7.56421    7.53737    7.54838    7.80269  \n",
       "7896738    5.04284    4.93904    4.69673    4.57663  \n",
       "7896740    7.08469    6.24267    6.00034    5.13058  \n",
       "7896742    9.65281    9.53904    9.61598    9.50918  \n",
       "7896744    7.54853    6.77204    8.11177    7.06455  "
      ]
     },
     "execution_count": 24,
     "metadata": {},
     "output_type": "execute_result"
    }
   ],
   "source": [
    "from sklearn.feature_selection import SelectKBest, f_classif\n",
    "skb = SelectKBest(f_classif, k=10)\n",
    "\n",
    "labels = data_all.iloc[:,0]\n",
    "x_kbest = skb.fit_transform(data_all.iloc[:,1:], labels)\n",
    "\n",
    "columns_best = data_all[skb.get_feature_names_out()]\n",
    "data_kbest = pd.DataFrame(x_kbest, index=data_all.index, columns=columns_best.columns)\n",
    "print(data_kbest.shape)\n",
    "data_kbest.head()"
   ]
  },
  {
   "cell_type": "markdown",
   "id": "bcbbe3d1",
   "metadata": {},
   "source": [
    "### 1.5.2.1. Escolha dos meta-dados de maior relevância"
   ]
  },
  {
   "cell_type": "markdown",
   "id": "28cf7581",
   "metadata": {},
   "source": [
    "O objetivo principal será conseguir prever a a existência de ou não da doença do Alzheimer, pelo que os dados considerado mais importantesforam os relativos ao \"disease.state\", seguido do \"tissue\" e, por fim o \"gender\"."
   ]
  },
  {
   "cell_type": "markdown",
   "id": "79742383",
   "metadata": {},
   "source": [
    "---"
   ]
  },
  {
   "cell_type": "markdown",
   "id": "de97c8e2",
   "metadata": {},
   "source": [
    "## Secção 2: Redução de Dimensionalidade e clustering de dados"
   ]
  },
  {
   "cell_type": "markdown",
   "id": "f597865f",
   "metadata": {},
   "source": [
    "Em primeiro lugar foi necessário transformar os dados da base de dados numa matriz que pode ser utilizada para aplicar os modelos e fazer a análise estatística."
   ]
  },
  {
   "cell_type": "code",
   "execution_count": 25,
   "id": "30492683",
   "metadata": {},
   "outputs": [
    {
     "name": "stdout",
     "output_type": "stream",
     "text": [
      "(79, 33297)\n"
     ]
    },
    {
     "data": {
      "text/plain": [
       "array([[ 7.98001,  5.42206,  6.74531, ...,  6.17211,  4.13771, 10.3302 ],\n",
       "       [ 7.76415,  5.59312,  7.63617, ...,  6.06534,  3.13806,  9.82129],\n",
       "       [ 7.54313,  4.7738 ,  6.46318, ...,  5.36129,  3.89835,  9.86729],\n",
       "       ...,\n",
       "       [ 7.17572,  4.87187,  5.91335, ...,  6.44424,  4.49731,  9.83096],\n",
       "       [ 7.01313,  4.38672,  5.32446, ...,  7.07677,  3.59737,  9.31227],\n",
       "       [ 6.914  ,  5.30893,  5.9358 , ...,  6.06081,  3.78006,  9.59383]])"
      ]
     },
     "execution_count": 25,
     "metadata": {},
     "output_type": "execute_result"
    }
   ],
   "source": [
    "input_data = data_all.values \n",
    "input_data=input_data.transpose()\n",
    "print(input_data.shape)\n",
    "input_data"
   ]
  },
  {
   "cell_type": "markdown",
   "id": "42b9cac4",
   "metadata": {},
   "source": [
    "### 2.1. Filtração dos dados"
   ]
  },
  {
   "cell_type": "markdown",
   "id": "61aa6191",
   "metadata": {},
   "source": [
    "### 2.1.1. Filtração dos dados por variância"
   ]
  },
  {
   "cell_type": "markdown",
   "id": "15c89ba3",
   "metadata": {},
   "source": [
    "Com esta análise pretende-se identificar os genes que apresentam elevada variabilidade. O objetivo será eliminar todos os genes que apresentem uma variância inferior à média das variâncias."
   ]
  },
  {
   "cell_type": "code",
   "execution_count": 26,
   "id": "88aff34b",
   "metadata": {},
   "outputs": [
    {
     "name": "stdout",
     "output_type": "stream",
     "text": [
      "(33297,)\n"
     ]
    },
    {
     "data": {
      "text/plain": [
       "0.08948632599381982"
      ]
     },
     "execution_count": 26,
     "metadata": {},
     "output_type": "execute_result"
    }
   ],
   "source": [
    "# Permite calcular a variância associada a cada gene, bem como a média das variâncias.\n",
    "variances = input_data.var(axis = 0) \n",
    "\n",
    "print(variances.shape)\n",
    "\n",
    "medvar = variances.mean()\n",
    "medvar"
   ]
  },
  {
   "cell_type": "code",
   "execution_count": 27,
   "id": "a8d18d56",
   "metadata": {},
   "outputs": [
    {
     "data": {
      "image/png": "[encoded data removed]",
      "text/plain": [
       "<Figure size 640x480 with 1 Axes>"
      ]
     },
     "metadata": {},
     "output_type": "display_data"
    }
   ],
   "source": [
    "plt.hist(variances, bins = 30)\n",
    "plt.xlabel('Variances')\n",
    "plt.ylabel('Probability density')\n",
    "plt.title(r'Histogram of variances')\n",
    "plt.show()"
   ]
  },
  {
   "cell_type": "code",
   "execution_count": 28,
   "id": "f453c2a0",
   "metadata": {},
   "outputs": [
    {
     "data": {
      "text/plain": [
       "(79, 9153)"
      ]
     },
     "execution_count": 28,
     "metadata": {},
     "output_type": "execute_result"
    }
   ],
   "source": [
    "from sklearn.feature_selection import VarianceThreshold\n",
    "# vai remover todos os genes que se encontrem abaixo da variância\n",
    "sel = VarianceThreshold(threshold= medvar)\n",
    "input_filt = sel.fit_transform(input_data)\n",
    "input_filt.shape"
   ]
  },
  {
   "cell_type": "markdown",
   "id": "a8e16ade",
   "metadata": {},
   "source": [
    "Utilizando o método da variância foram removidos 24144 (33297-9153) sujeitos que seriam pouco importantes e redundantes para a aplicação de modelos."
   ]
  },
  {
   "cell_type": "markdown",
   "id": "d48e3aef",
   "metadata": {},
   "source": [
    "### 2.1.2. Filtração dos dados por percentil"
   ]
  },
  {
   "cell_type": "markdown",
   "id": "93d297f1",
   "metadata": {},
   "source": [
    "O objetivo é identificar os genes expressos diferencialmente em relação à variável alvo, neste caso, disease.state. Para tal, utiliza-se a ANOVA, que seleciona os 10% recursos com um f_value maior, e retorna o nome das colunas que possuem valores de p inferiores a 5%. Significância estatística de 95%."
   ]
  },
  {
   "cell_type": "code",
   "execution_count": 29,
   "id": "46205f26",
   "metadata": {},
   "outputs": [
    {
     "name": "stdout",
     "output_type": "stream",
     "text": [
      "(2269, 79)\n"
     ]
    }
   ],
   "source": [
    "from sklearn.feature_selection import SelectPercentile, f_classif\n",
    "\n",
    "\n",
    "seletor = SelectPercentile(f_classif,percentile=10)\n",
    "output_data=meta_all.values[:,1]\n",
    "\n",
    "seletor.fit_transform(input_filt,output_data)\n",
    "\n",
    "genes_filtrados=np.where(seletor.pvalues_<0.05)\n",
    "final_data=input_data.transpose()[genes_filtrados]\n",
    "print(final_data.shape)\n",
    "\n",
    "\n"
   ]
  },
  {
   "cell_type": "markdown",
   "id": "1625c4f2",
   "metadata": {},
   "source": [
    "Com base no disease.state, foram eliminados 24196 sujeitos com dados redundantes."
   ]
  },
  {
   "cell_type": "markdown",
   "id": "7f27e1a1",
   "metadata": {},
   "source": [
    "# Aprendizagem não supervisionada"
   ]
  },
  {
   "cell_type": "markdown",
   "id": "1518653a",
   "metadata": {},
   "source": [
    "### 1. Análise da forma como amostras se organizam no espaço através do PCA"
   ]
  },
  {
   "cell_type": "code",
   "execution_count": 30,
   "id": "9f41f54c",
   "metadata": {},
   "outputs": [
    {
     "name": "stdout",
     "output_type": "stream",
     "text": [
      "Average:  -2.0612561302043063e-16\n",
      "Standard Deviation:  0.9999999999999999\n"
     ]
    }
   ],
   "source": [
    "from sklearn import preprocessing\n",
    "\n",
    "input_sc = preprocessing.scale(final_data).transpose()\n",
    "\n",
    "print(\"Average: \", input_sc.mean())\n",
    "print(\"Standard Deviation: \", input_sc.std())"
   ]
  },
  {
   "cell_type": "code",
   "execution_count": 31,
   "id": "80d04fe1",
   "metadata": {},
   "outputs": [
    {
     "name": "stdout",
     "output_type": "stream",
     "text": [
      "Explained Variance: [0.16689814 0.11867185 0.08018991 0.04969823 0.04714901 0.03715335\n",
      " 0.03558544 0.02838861 0.02465651 0.02271734 0.02053113 0.01943348\n",
      " 0.0165573  0.01534831 0.01359539 0.01250016 0.01184256 0.0112459\n",
      " 0.01072133 0.00972304]\n"
     ]
    },
    {
     "data": {
      "text/plain": [
       "0.7526069978134136"
      ]
     },
     "execution_count": 31,
     "metadata": {},
     "output_type": "execute_result"
    }
   ],
   "source": [
    "from sklearn.decomposition import PCA\n",
    "\n",
    "pca = PCA(n_components=20)\n",
    "X_r = pca.fit(input_sc).transform(input_sc)\n",
    "\n",
    "print('Explained Variance: %s'% str(pca.explained_variance_ratio_))\n",
    "\n",
    "pca.explained_variance_ratio_.sum()"
   ]
  },
  {
   "cell_type": "code",
   "execution_count": 32,
   "id": "9b8e35ad",
   "metadata": {},
   "outputs": [
    {
     "data": {
      "image/png": "[encoded data removed]",
      "text/plain": [
       "<Figure size 640x480 with 1 Axes>"
      ]
     },
     "metadata": {},
     "output_type": "display_data"
    }
   ],
   "source": [
    "plt.figure()\n",
    "for c, name in zip(\"rgb\", [\"Alzheimer's disease\", \"non-Alzheimer's disease\"]):\n",
    "    plt.scatter(X_r[output_data == name, 0], X_r[output_data == name, 1], c=c, label=name)\n",
    "plt.legend()\n",
    "plt.title('Dataset ALL - scores plot PCA')\n",
    "plt.show()"
   ]
  },
  {
   "cell_type": "code",
   "execution_count": 33,
   "id": "63d2d66c",
   "metadata": {},
   "outputs": [],
   "source": [
    "output_tissue=meta_all.values[:,2]\n"
   ]
  },
  {
   "cell_type": "code",
   "execution_count": 34,
   "id": "c86642ad",
   "metadata": {},
   "outputs": [
    {
     "data": {
      "image/png": "[encoded data removed]",
      "text/plain": [
       "<Figure size 640x480 with 1 Axes>"
      ]
     },
     "metadata": {},
     "output_type": "display_data"
    }
   ],
   "source": [
    "plt.figure()\n",
    "for c, name in zip(\"rgb\", [\"frontal cortex\", \"hippocampus\",\"temporal cortex\"]):\n",
    "    plt.scatter(X_r[output_tissue == name, 0], X_r[output_tissue == name, 1],c=c, label=name)\n",
    "plt.legend()\n",
    "plt.title('Gráfico dos Scores PCA ')\n",
    "plt.show()"
   ]
  },
  {
   "cell_type": "markdown",
   "id": "21a59e64",
   "metadata": {},
   "source": [
    "### 2. Criação de clusters: K-Means"
   ]
  },
  {
   "cell_type": "code",
   "execution_count": 35,
   "id": "c2925833",
   "metadata": {},
   "outputs": [],
   "source": [
    "from sklearn.cluster import KMeans"
   ]
  },
  {
   "cell_type": "code",
   "execution_count": 45,
   "id": "d493b669",
   "metadata": {},
   "outputs": [
    {
     "data": {
      "text/html": [
       "<div>\n",
       "<style scoped>\n",
       "    .dataframe tbody tr th:only-of-type {\n",
       "        vertical-align: middle;\n",
       "    }\n",
       "\n",
       "    .dataframe tbody tr th {\n",
       "        vertical-align: top;\n",
       "    }\n",
       "\n",
       "    .dataframe thead th {\n",
       "        text-align: right;\n",
       "    }\n",
       "</style>\n",
       "<table border=\"1\" class=\"dataframe\">\n",
       "  <thead>\n",
       "    <tr style=\"text-align: right;\">\n",
       "      <th></th>\n",
       "      <th>0</th>\n",
       "      <th>1</th>\n",
       "      <th>2</th>\n",
       "      <th>3</th>\n",
       "      <th>4</th>\n",
       "      <th>5</th>\n",
       "      <th>6</th>\n",
       "      <th>7</th>\n",
       "      <th>8</th>\n",
       "      <th>9</th>\n",
       "      <th>10</th>\n",
       "      <th>11</th>\n",
       "      <th>12</th>\n",
       "      <th>13</th>\n",
       "      <th>14</th>\n",
       "      <th>15</th>\n",
       "      <th>16</th>\n",
       "      <th>17</th>\n",
       "      <th>18</th>\n",
       "      <th>19</th>\n",
       "    </tr>\n",
       "  </thead>\n",
       "  <tbody>\n",
       "    <tr>\n",
       "      <th>0</th>\n",
       "      <td>4.855205</td>\n",
       "      <td>2.152870</td>\n",
       "      <td>1.055666</td>\n",
       "      <td>-0.096973</td>\n",
       "      <td>1.406526</td>\n",
       "      <td>-1.255204</td>\n",
       "      <td>1.084151</td>\n",
       "      <td>-2.477457</td>\n",
       "      <td>-0.262386</td>\n",
       "      <td>-0.210870</td>\n",
       "      <td>0.079183</td>\n",
       "      <td>0.706595</td>\n",
       "      <td>-0.612169</td>\n",
       "      <td>-0.840627</td>\n",
       "      <td>-1.599954</td>\n",
       "      <td>0.065429</td>\n",
       "      <td>-0.394791</td>\n",
       "      <td>-0.762782</td>\n",
       "      <td>0.718084</td>\n",
       "      <td>0.459085</td>\n",
       "    </tr>\n",
       "    <tr>\n",
       "      <th>1</th>\n",
       "      <td>0.315015</td>\n",
       "      <td>-0.531134</td>\n",
       "      <td>2.754669</td>\n",
       "      <td>-2.171962</td>\n",
       "      <td>0.623711</td>\n",
       "      <td>-0.607268</td>\n",
       "      <td>0.981012</td>\n",
       "      <td>-1.345775</td>\n",
       "      <td>1.334930</td>\n",
       "      <td>0.124621</td>\n",
       "      <td>-0.013285</td>\n",
       "      <td>0.713711</td>\n",
       "      <td>-2.112052</td>\n",
       "      <td>-1.582553</td>\n",
       "      <td>0.768629</td>\n",
       "      <td>-1.144914</td>\n",
       "      <td>0.296298</td>\n",
       "      <td>-0.089247</td>\n",
       "      <td>-0.360634</td>\n",
       "      <td>-0.447697</td>\n",
       "    </tr>\n",
       "    <tr>\n",
       "      <th>2</th>\n",
       "      <td>4.211498</td>\n",
       "      <td>-1.266832</td>\n",
       "      <td>2.085196</td>\n",
       "      <td>1.871576</td>\n",
       "      <td>-0.599137</td>\n",
       "      <td>-1.719706</td>\n",
       "      <td>3.169515</td>\n",
       "      <td>-0.305921</td>\n",
       "      <td>-0.166893</td>\n",
       "      <td>-1.554867</td>\n",
       "      <td>-1.106793</td>\n",
       "      <td>1.133689</td>\n",
       "      <td>-2.433677</td>\n",
       "      <td>2.242709</td>\n",
       "      <td>-0.746260</td>\n",
       "      <td>0.473268</td>\n",
       "      <td>-0.603983</td>\n",
       "      <td>0.793708</td>\n",
       "      <td>-0.424048</td>\n",
       "      <td>1.405728</td>\n",
       "    </tr>\n",
       "    <tr>\n",
       "      <th>3</th>\n",
       "      <td>4.611058</td>\n",
       "      <td>2.117375</td>\n",
       "      <td>-0.540793</td>\n",
       "      <td>0.757646</td>\n",
       "      <td>0.357161</td>\n",
       "      <td>-1.818939</td>\n",
       "      <td>0.549123</td>\n",
       "      <td>-0.234711</td>\n",
       "      <td>-0.400461</td>\n",
       "      <td>1.110610</td>\n",
       "      <td>0.024448</td>\n",
       "      <td>-0.757283</td>\n",
       "      <td>-0.586600</td>\n",
       "      <td>0.477183</td>\n",
       "      <td>1.367083</td>\n",
       "      <td>0.283638</td>\n",
       "      <td>-0.040130</td>\n",
       "      <td>-0.539679</td>\n",
       "      <td>-1.625031</td>\n",
       "      <td>0.007609</td>\n",
       "    </tr>\n",
       "    <tr>\n",
       "      <th>4</th>\n",
       "      <td>4.738050</td>\n",
       "      <td>1.607405</td>\n",
       "      <td>2.347204</td>\n",
       "      <td>0.949596</td>\n",
       "      <td>-1.574365</td>\n",
       "      <td>0.292008</td>\n",
       "      <td>-2.249275</td>\n",
       "      <td>-1.064270</td>\n",
       "      <td>0.011399</td>\n",
       "      <td>-0.101785</td>\n",
       "      <td>0.163522</td>\n",
       "      <td>0.811356</td>\n",
       "      <td>0.923239</td>\n",
       "      <td>-0.374653</td>\n",
       "      <td>-0.132694</td>\n",
       "      <td>-0.223518</td>\n",
       "      <td>-0.425591</td>\n",
       "      <td>-0.097614</td>\n",
       "      <td>-0.631969</td>\n",
       "      <td>0.046906</td>\n",
       "    </tr>\n",
       "    <tr>\n",
       "      <th>...</th>\n",
       "      <td>...</td>\n",
       "      <td>...</td>\n",
       "      <td>...</td>\n",
       "      <td>...</td>\n",
       "      <td>...</td>\n",
       "      <td>...</td>\n",
       "      <td>...</td>\n",
       "      <td>...</td>\n",
       "      <td>...</td>\n",
       "      <td>...</td>\n",
       "      <td>...</td>\n",
       "      <td>...</td>\n",
       "      <td>...</td>\n",
       "      <td>...</td>\n",
       "      <td>...</td>\n",
       "      <td>...</td>\n",
       "      <td>...</td>\n",
       "      <td>...</td>\n",
       "      <td>...</td>\n",
       "      <td>...</td>\n",
       "    </tr>\n",
       "    <tr>\n",
       "      <th>74</th>\n",
       "      <td>-2.350389</td>\n",
       "      <td>3.170793</td>\n",
       "      <td>0.002252</td>\n",
       "      <td>-0.746442</td>\n",
       "      <td>-0.445462</td>\n",
       "      <td>0.998915</td>\n",
       "      <td>-1.103074</td>\n",
       "      <td>0.302876</td>\n",
       "      <td>-0.546561</td>\n",
       "      <td>1.665654</td>\n",
       "      <td>-0.542911</td>\n",
       "      <td>0.526497</td>\n",
       "      <td>-1.073134</td>\n",
       "      <td>0.030236</td>\n",
       "      <td>1.134997</td>\n",
       "      <td>0.395724</td>\n",
       "      <td>-0.436483</td>\n",
       "      <td>0.736256</td>\n",
       "      <td>0.065099</td>\n",
       "      <td>0.297835</td>\n",
       "    </tr>\n",
       "    <tr>\n",
       "      <th>75</th>\n",
       "      <td>1.325123</td>\n",
       "      <td>4.598141</td>\n",
       "      <td>0.762398</td>\n",
       "      <td>-1.363882</td>\n",
       "      <td>3.571038</td>\n",
       "      <td>2.431534</td>\n",
       "      <td>-0.475141</td>\n",
       "      <td>3.494774</td>\n",
       "      <td>-1.758306</td>\n",
       "      <td>-0.757088</td>\n",
       "      <td>0.955204</td>\n",
       "      <td>-0.813575</td>\n",
       "      <td>-0.262479</td>\n",
       "      <td>-0.148902</td>\n",
       "      <td>-0.153009</td>\n",
       "      <td>1.227632</td>\n",
       "      <td>-0.460218</td>\n",
       "      <td>-1.006774</td>\n",
       "      <td>0.123618</td>\n",
       "      <td>0.701731</td>\n",
       "    </tr>\n",
       "    <tr>\n",
       "      <th>76</th>\n",
       "      <td>-1.979979</td>\n",
       "      <td>0.124229</td>\n",
       "      <td>-1.413321</td>\n",
       "      <td>2.133575</td>\n",
       "      <td>0.154763</td>\n",
       "      <td>1.068449</td>\n",
       "      <td>1.208740</td>\n",
       "      <td>1.857100</td>\n",
       "      <td>1.406349</td>\n",
       "      <td>0.579987</td>\n",
       "      <td>0.610838</td>\n",
       "      <td>0.931404</td>\n",
       "      <td>0.627472</td>\n",
       "      <td>-0.528946</td>\n",
       "      <td>-0.462993</td>\n",
       "      <td>0.660014</td>\n",
       "      <td>-0.400237</td>\n",
       "      <td>-0.034812</td>\n",
       "      <td>-0.037691</td>\n",
       "      <td>-0.057976</td>\n",
       "    </tr>\n",
       "    <tr>\n",
       "      <th>77</th>\n",
       "      <td>-1.388505</td>\n",
       "      <td>2.509501</td>\n",
       "      <td>-2.335018</td>\n",
       "      <td>0.574255</td>\n",
       "      <td>2.151368</td>\n",
       "      <td>-0.674186</td>\n",
       "      <td>-1.207419</td>\n",
       "      <td>0.282871</td>\n",
       "      <td>-0.036390</td>\n",
       "      <td>0.253293</td>\n",
       "      <td>-0.902645</td>\n",
       "      <td>2.600655</td>\n",
       "      <td>0.066404</td>\n",
       "      <td>1.554688</td>\n",
       "      <td>0.433196</td>\n",
       "      <td>0.852518</td>\n",
       "      <td>1.570213</td>\n",
       "      <td>0.130743</td>\n",
       "      <td>-0.545002</td>\n",
       "      <td>1.097917</td>\n",
       "    </tr>\n",
       "    <tr>\n",
       "      <th>78</th>\n",
       "      <td>-0.700222</td>\n",
       "      <td>0.455851</td>\n",
       "      <td>-2.761256</td>\n",
       "      <td>2.930556</td>\n",
       "      <td>1.579698</td>\n",
       "      <td>0.886444</td>\n",
       "      <td>-0.584329</td>\n",
       "      <td>-0.278672</td>\n",
       "      <td>-2.339127</td>\n",
       "      <td>-0.542327</td>\n",
       "      <td>0.138684</td>\n",
       "      <td>0.776251</td>\n",
       "      <td>0.607468</td>\n",
       "      <td>-1.866005</td>\n",
       "      <td>0.096633</td>\n",
       "      <td>-0.328124</td>\n",
       "      <td>1.811049</td>\n",
       "      <td>0.207110</td>\n",
       "      <td>-0.600330</td>\n",
       "      <td>0.229296</td>\n",
       "    </tr>\n",
       "  </tbody>\n",
       "</table>\n",
       "<p>79 rows × 20 columns</p>\n",
       "</div>"
      ],
      "text/plain": [
       "          0         1         2         3         4         5         6   \\\n",
       "0   4.855205  2.152870  1.055666 -0.096973  1.406526 -1.255204  1.084151   \n",
       "1   0.315015 -0.531134  2.754669 -2.171962  0.623711 -0.607268  0.981012   \n",
       "2   4.211498 -1.266832  2.085196  1.871576 -0.599137 -1.719706  3.169515   \n",
       "3   4.611058  2.117375 -0.540793  0.757646  0.357161 -1.818939  0.549123   \n",
       "4   4.738050  1.607405  2.347204  0.949596 -1.574365  0.292008 -2.249275   \n",
       "..       ...       ...       ...       ...       ...       ...       ...   \n",
       "74 -2.350389  3.170793  0.002252 -0.746442 -0.445462  0.998915 -1.103074   \n",
       "75  1.325123  4.598141  0.762398 -1.363882  3.571038  2.431534 -0.475141   \n",
       "76 -1.979979  0.124229 -1.413321  2.133575  0.154763  1.068449  1.208740   \n",
       "77 -1.388505  2.509501 -2.335018  0.574255  2.151368 -0.674186 -1.207419   \n",
       "78 -0.700222  0.455851 -2.761256  2.930556  1.579698  0.886444 -0.584329   \n",
       "\n",
       "          7         8         9         10        11        12        13  \\\n",
       "0  -2.477457 -0.262386 -0.210870  0.079183  0.706595 -0.612169 -0.840627   \n",
       "1  -1.345775  1.334930  0.124621 -0.013285  0.713711 -2.112052 -1.582553   \n",
       "2  -0.305921 -0.166893 -1.554867 -1.106793  1.133689 -2.433677  2.242709   \n",
       "3  -0.234711 -0.400461  1.110610  0.024448 -0.757283 -0.586600  0.477183   \n",
       "4  -1.064270  0.011399 -0.101785  0.163522  0.811356  0.923239 -0.374653   \n",
       "..       ...       ...       ...       ...       ...       ...       ...   \n",
       "74  0.302876 -0.546561  1.665654 -0.542911  0.526497 -1.073134  0.030236   \n",
       "75  3.494774 -1.758306 -0.757088  0.955204 -0.813575 -0.262479 -0.148902   \n",
       "76  1.857100  1.406349  0.579987  0.610838  0.931404  0.627472 -0.528946   \n",
       "77  0.282871 -0.036390  0.253293 -0.902645  2.600655  0.066404  1.554688   \n",
       "78 -0.278672 -2.339127 -0.542327  0.138684  0.776251  0.607468 -1.866005   \n",
       "\n",
       "          14        15        16        17        18        19  \n",
       "0  -1.599954  0.065429 -0.394791 -0.762782  0.718084  0.459085  \n",
       "1   0.768629 -1.144914  0.296298 -0.089247 -0.360634 -0.447697  \n",
       "2  -0.746260  0.473268 -0.603983  0.793708 -0.424048  1.405728  \n",
       "3   1.367083  0.283638 -0.040130 -0.539679 -1.625031  0.007609  \n",
       "4  -0.132694 -0.223518 -0.425591 -0.097614 -0.631969  0.046906  \n",
       "..       ...       ...       ...       ...       ...       ...  \n",
       "74  1.134997  0.395724 -0.436483  0.736256  0.065099  0.297835  \n",
       "75 -0.153009  1.227632 -0.460218 -1.006774  0.123618  0.701731  \n",
       "76 -0.462993  0.660014 -0.400237 -0.034812 -0.037691 -0.057976  \n",
       "77  0.433196  0.852518  1.570213  0.130743 -0.545002  1.097917  \n",
       "78  0.096633 -0.328124  1.811049  0.207110 -0.600330  0.229296  \n",
       "\n",
       "[79 rows x 20 columns]"
      ]
     },
     "execution_count": 45,
     "metadata": {},
     "output_type": "execute_result"
    }
   ],
   "source": [
    "X_r = pd.DataFrame(X_r)\n",
    "X_r = X_r.transpose()\n",
    "X_r"
   ]
  },
  {
   "cell_type": "code",
   "execution_count": 46,
   "id": "aab51644",
   "metadata": {},
   "outputs": [
    {
     "name": "stderr",
     "output_type": "stream",
     "text": [
      "C:\\Users\\ASUS\\anaconda3\\Lib\\site-packages\\sklearn\\cluster\\_kmeans.py:1436: UserWarning: KMeans is known to have a memory leak on Windows with MKL, when there are less chunks than available threads. You can avoid it by setting the environment variable OMP_NUM_THREADS=1.\n",
      "  warnings.warn(\n",
      "C:\\Users\\ASUS\\anaconda3\\Lib\\site-packages\\sklearn\\cluster\\_kmeans.py:1436: UserWarning: KMeans is known to have a memory leak on Windows with MKL, when there are less chunks than available threads. You can avoid it by setting the environment variable OMP_NUM_THREADS=1.\n",
      "  warnings.warn(\n"
     ]
    },
    {
     "data": {
      "text/html": [
       "<style>#sk-container-id-3 {color: black;}#sk-container-id-3 pre{padding: 0;}#sk-container-id-3 div.sk-toggleable {background-color: white;}#sk-container-id-3 label.sk-toggleable__label {cursor: pointer;display: block;width: 100%;margin-bottom: 0;padding: 0.3em;box-sizing: border-box;text-align: center;}#sk-container-id-3 label.sk-toggleable__label-arrow:before {content: \"▸\";float: left;margin-right: 0.25em;color: #696969;}#sk-container-id-3 label.sk-toggleable__label-arrow:hover:before {color: black;}#sk-container-id-3 div.sk-estimator:hover label.sk-toggleable__label-arrow:before {color: black;}#sk-container-id-3 div.sk-toggleable__content {max-height: 0;max-width: 0;overflow: hidden;text-align: left;background-color: #f0f8ff;}#sk-container-id-3 div.sk-toggleable__content pre {margin: 0.2em;color: black;border-radius: 0.25em;background-color: #f0f8ff;}#sk-container-id-3 input.sk-toggleable__control:checked~div.sk-toggleable__content {max-height: 200px;max-width: 100%;overflow: auto;}#sk-container-id-3 input.sk-toggleable__control:checked~label.sk-toggleable__label-arrow:before {content: \"▾\";}#sk-container-id-3 div.sk-estimator input.sk-toggleable__control:checked~label.sk-toggleable__label {background-color: #d4ebff;}#sk-container-id-3 div.sk-label input.sk-toggleable__control:checked~label.sk-toggleable__label {background-color: #d4ebff;}#sk-container-id-3 input.sk-hidden--visually {border: 0;clip: rect(1px 1px 1px 1px);clip: rect(1px, 1px, 1px, 1px);height: 1px;margin: -1px;overflow: hidden;padding: 0;position: absolute;width: 1px;}#sk-container-id-3 div.sk-estimator {font-family: monospace;background-color: #f0f8ff;border: 1px dotted black;border-radius: 0.25em;box-sizing: border-box;margin-bottom: 0.5em;}#sk-container-id-3 div.sk-estimator:hover {background-color: #d4ebff;}#sk-container-id-3 div.sk-parallel-item::after {content: \"\";width: 100%;border-bottom: 1px solid gray;flex-grow: 1;}#sk-container-id-3 div.sk-label:hover label.sk-toggleable__label {background-color: #d4ebff;}#sk-container-id-3 div.sk-serial::before {content: \"\";position: absolute;border-left: 1px solid gray;box-sizing: border-box;top: 0;bottom: 0;left: 50%;z-index: 0;}#sk-container-id-3 div.sk-serial {display: flex;flex-direction: column;align-items: center;background-color: white;padding-right: 0.2em;padding-left: 0.2em;position: relative;}#sk-container-id-3 div.sk-item {position: relative;z-index: 1;}#sk-container-id-3 div.sk-parallel {display: flex;align-items: stretch;justify-content: center;background-color: white;position: relative;}#sk-container-id-3 div.sk-item::before, #sk-container-id-3 div.sk-parallel-item::before {content: \"\";position: absolute;border-left: 1px solid gray;box-sizing: border-box;top: 0;bottom: 0;left: 50%;z-index: -1;}#sk-container-id-3 div.sk-parallel-item {display: flex;flex-direction: column;z-index: 1;position: relative;background-color: white;}#sk-container-id-3 div.sk-parallel-item:first-child::after {align-self: flex-end;width: 50%;}#sk-container-id-3 div.sk-parallel-item:last-child::after {align-self: flex-start;width: 50%;}#sk-container-id-3 div.sk-parallel-item:only-child::after {width: 0;}#sk-container-id-3 div.sk-dashed-wrapped {border: 1px dashed gray;margin: 0 0.4em 0.5em 0.4em;box-sizing: border-box;padding-bottom: 0.4em;background-color: white;}#sk-container-id-3 div.sk-label label {font-family: monospace;font-weight: bold;display: inline-block;line-height: 1.2em;}#sk-container-id-3 div.sk-label-container {text-align: center;}#sk-container-id-3 div.sk-container {/* jupyter's `normalize.less` sets `[hidden] { display: none; }` but bootstrap.min.css set `[hidden] { display: none !important; }` so we also need the `!important` here to be able to override the default hidden behavior on the sphinx rendered scikit-learn.org. See: https://github.com/scikit-learn/scikit-learn/issues/21755 */display: inline-block !important;position: relative;}#sk-container-id-3 div.sk-text-repr-fallback {display: none;}</style><div id=\"sk-container-id-3\" class=\"sk-top-container\"><div class=\"sk-text-repr-fallback\"><pre>KMeans(n_clusters=3)</pre><b>In a Jupyter environment, please rerun this cell to show the HTML representation or trust the notebook. <br />On GitHub, the HTML representation is unable to render, please try loading this page with nbviewer.org.</b></div><div class=\"sk-container\" hidden><div class=\"sk-item\"><div class=\"sk-estimator sk-toggleable\"><input class=\"sk-toggleable__control sk-hidden--visually\" id=\"sk-estimator-id-3\" type=\"checkbox\" checked><label for=\"sk-estimator-id-3\" class=\"sk-toggleable__label sk-toggleable__label-arrow\">KMeans</label><div class=\"sk-toggleable__content\"><pre>KMeans(n_clusters=3)</pre></div></div></div></div></div>"
      ],
      "text/plain": [
       "KMeans(n_clusters=3)"
      ]
     },
     "execution_count": 46,
     "metadata": {},
     "output_type": "execute_result"
    }
   ],
   "source": [
    "kmeans = KMeans(n_clusters=3)\n",
    "clusters = kmeans.fit_predict(X_r)\n",
    "kmeans.fit(X_r)"
   ]
  },
  {
   "cell_type": "code",
   "execution_count": 47,
   "id": "b66f6487",
   "metadata": {},
   "outputs": [],
   "source": [
    "kmeans_data = kmeans.transform(X_r)"
   ]
  },
  {
   "cell_type": "code",
   "execution_count": 48,
   "id": "ea120f55",
   "metadata": {},
   "outputs": [],
   "source": [
    "meta_all['clusters'] = kmeans.labels_\n",
    "mapping = {0:'hippocampus', 1:'frontal cortex', 2:'temporal cortex'}\n",
    "meta_all['clusters'] = [mapping[i] for i in meta_all['clusters']]"
   ]
  },
  {
   "cell_type": "code",
   "execution_count": 49,
   "id": "3046dfd4",
   "metadata": {},
   "outputs": [
    {
     "data": {
      "text/html": [
       "<div>\n",
       "<style scoped>\n",
       "    .dataframe tbody tr th:only-of-type {\n",
       "        vertical-align: middle;\n",
       "    }\n",
       "\n",
       "    .dataframe tbody tr th {\n",
       "        vertical-align: top;\n",
       "    }\n",
       "\n",
       "    .dataframe thead th {\n",
       "        text-align: right;\n",
       "    }\n",
       "</style>\n",
       "<table border=\"1\" class=\"dataframe\">\n",
       "  <thead>\n",
       "    <tr style=\"text-align: right;\">\n",
       "      <th></th>\n",
       "      <th>sample</th>\n",
       "      <th>disease.state</th>\n",
       "      <th>tissue</th>\n",
       "      <th>gender</th>\n",
       "      <th>description</th>\n",
       "      <th>clusters</th>\n",
       "    </tr>\n",
       "  </thead>\n",
       "  <tbody>\n",
       "    <tr>\n",
       "      <th>GSM907858</th>\n",
       "      <td>GSM907858</td>\n",
       "      <td>Alzheimer's disease</td>\n",
       "      <td>hippocampus</td>\n",
       "      <td>male</td>\n",
       "      <td>Value for GSM907858: AD_HI, biological rep5; s...</td>\n",
       "      <td>frontal cortex</td>\n",
       "    </tr>\n",
       "    <tr>\n",
       "      <th>GSM907859</th>\n",
       "      <td>GSM907859</td>\n",
       "      <td>Alzheimer's disease</td>\n",
       "      <td>hippocampus</td>\n",
       "      <td>male</td>\n",
       "      <td>Value for GSM907859: AD_HI, biological rep6; s...</td>\n",
       "      <td>temporal cortex</td>\n",
       "    </tr>\n",
       "    <tr>\n",
       "      <th>GSM907860</th>\n",
       "      <td>GSM907860</td>\n",
       "      <td>Alzheimer's disease</td>\n",
       "      <td>hippocampus</td>\n",
       "      <td>male</td>\n",
       "      <td>Value for GSM907860: AD_HI, biological rep7; s...</td>\n",
       "      <td>frontal cortex</td>\n",
       "    </tr>\n",
       "    <tr>\n",
       "      <th>GSM907854</th>\n",
       "      <td>GSM907854</td>\n",
       "      <td>Alzheimer's disease</td>\n",
       "      <td>hippocampus</td>\n",
       "      <td>female</td>\n",
       "      <td>Value for GSM907854: AD_HI, biological rep1; s...</td>\n",
       "      <td>frontal cortex</td>\n",
       "    </tr>\n",
       "    <tr>\n",
       "      <th>GSM907855</th>\n",
       "      <td>GSM907855</td>\n",
       "      <td>Alzheimer's disease</td>\n",
       "      <td>hippocampus</td>\n",
       "      <td>female</td>\n",
       "      <td>Value for GSM907855: AD_HI, biological rep2; s...</td>\n",
       "      <td>frontal cortex</td>\n",
       "    </tr>\n",
       "    <tr>\n",
       "      <th>...</th>\n",
       "      <td>...</td>\n",
       "      <td>...</td>\n",
       "      <td>...</td>\n",
       "      <td>...</td>\n",
       "      <td>...</td>\n",
       "      <td>...</td>\n",
       "    </tr>\n",
       "    <tr>\n",
       "      <th>GSM907812</th>\n",
       "      <td>GSM907812</td>\n",
       "      <td>non-Alzheimer's disease</td>\n",
       "      <td>frontal cortex</td>\n",
       "      <td>female</td>\n",
       "      <td>Value for GSM907812: non-AD_FC, biological rep...</td>\n",
       "      <td>hippocampus</td>\n",
       "    </tr>\n",
       "    <tr>\n",
       "      <th>GSM907815</th>\n",
       "      <td>GSM907815</td>\n",
       "      <td>non-Alzheimer's disease</td>\n",
       "      <td>frontal cortex</td>\n",
       "      <td>female</td>\n",
       "      <td>Value for GSM907815: non-AD_FC, biological rep...</td>\n",
       "      <td>frontal cortex</td>\n",
       "    </tr>\n",
       "    <tr>\n",
       "      <th>GSM907817</th>\n",
       "      <td>GSM907817</td>\n",
       "      <td>non-Alzheimer's disease</td>\n",
       "      <td>frontal cortex</td>\n",
       "      <td>female</td>\n",
       "      <td>Value for GSM907817: non-AD_FC, biological rep...</td>\n",
       "      <td>hippocampus</td>\n",
       "    </tr>\n",
       "    <tr>\n",
       "      <th>GSM907821</th>\n",
       "      <td>GSM907821</td>\n",
       "      <td>non-Alzheimer's disease</td>\n",
       "      <td>frontal cortex</td>\n",
       "      <td>female</td>\n",
       "      <td>Value for GSM907821: non-AD_FC, biological rep...</td>\n",
       "      <td>hippocampus</td>\n",
       "    </tr>\n",
       "    <tr>\n",
       "      <th>GSM907824</th>\n",
       "      <td>GSM907824</td>\n",
       "      <td>non-Alzheimer's disease</td>\n",
       "      <td>frontal cortex</td>\n",
       "      <td>female</td>\n",
       "      <td>Value for GSM907824: non-AD_FC, biological rep...</td>\n",
       "      <td>hippocampus</td>\n",
       "    </tr>\n",
       "  </tbody>\n",
       "</table>\n",
       "<p>79 rows × 6 columns</p>\n",
       "</div>"
      ],
      "text/plain": [
       "              sample            disease.state          tissue  gender  \\\n",
       "GSM907858  GSM907858      Alzheimer's disease     hippocampus    male   \n",
       "GSM907859  GSM907859      Alzheimer's disease     hippocampus    male   \n",
       "GSM907860  GSM907860      Alzheimer's disease     hippocampus    male   \n",
       "GSM907854  GSM907854      Alzheimer's disease     hippocampus  female   \n",
       "GSM907855  GSM907855      Alzheimer's disease     hippocampus  female   \n",
       "...              ...                      ...             ...     ...   \n",
       "GSM907812  GSM907812  non-Alzheimer's disease  frontal cortex  female   \n",
       "GSM907815  GSM907815  non-Alzheimer's disease  frontal cortex  female   \n",
       "GSM907817  GSM907817  non-Alzheimer's disease  frontal cortex  female   \n",
       "GSM907821  GSM907821  non-Alzheimer's disease  frontal cortex  female   \n",
       "GSM907824  GSM907824  non-Alzheimer's disease  frontal cortex  female   \n",
       "\n",
       "                                                 description         clusters  \n",
       "GSM907858  Value for GSM907858: AD_HI, biological rep5; s...   frontal cortex  \n",
       "GSM907859  Value for GSM907859: AD_HI, biological rep6; s...  temporal cortex  \n",
       "GSM907860  Value for GSM907860: AD_HI, biological rep7; s...   frontal cortex  \n",
       "GSM907854  Value for GSM907854: AD_HI, biological rep1; s...   frontal cortex  \n",
       "GSM907855  Value for GSM907855: AD_HI, biological rep2; s...   frontal cortex  \n",
       "...                                                      ...              ...  \n",
       "GSM907812  Value for GSM907812: non-AD_FC, biological rep...      hippocampus  \n",
       "GSM907815  Value for GSM907815: non-AD_FC, biological rep...   frontal cortex  \n",
       "GSM907817  Value for GSM907817: non-AD_FC, biological rep...      hippocampus  \n",
       "GSM907821  Value for GSM907821: non-AD_FC, biological rep...      hippocampus  \n",
       "GSM907824  Value for GSM907824: non-AD_FC, biological rep...      hippocampus  \n",
       "\n",
       "[79 rows x 6 columns]"
      ]
     },
     "execution_count": 49,
     "metadata": {},
     "output_type": "execute_result"
    }
   ],
   "source": [
    "meta_all"
   ]
  },
  {
   "cell_type": "markdown",
   "id": "a42ebdd1",
   "metadata": {},
   "source": [
    "### 3. Previsão de testes de treino"
   ]
  },
  {
   "cell_type": "code",
   "execution_count": 50,
   "id": "b27a5d21",
   "metadata": {},
   "outputs": [
    {
     "data": {
      "text/html": [
       "<div>\n",
       "<style scoped>\n",
       "    .dataframe tbody tr th:only-of-type {\n",
       "        vertical-align: middle;\n",
       "    }\n",
       "\n",
       "    .dataframe tbody tr th {\n",
       "        vertical-align: top;\n",
       "    }\n",
       "\n",
       "    .dataframe thead th {\n",
       "        text-align: right;\n",
       "    }\n",
       "</style>\n",
       "<table border=\"1\" class=\"dataframe\">\n",
       "  <thead>\n",
       "    <tr style=\"text-align: right;\">\n",
       "      <th>clusters</th>\n",
       "      <th>frontal cortex</th>\n",
       "      <th>hippocampus</th>\n",
       "      <th>temporal cortex</th>\n",
       "    </tr>\n",
       "    <tr>\n",
       "      <th>row_0</th>\n",
       "      <th></th>\n",
       "      <th></th>\n",
       "      <th></th>\n",
       "    </tr>\n",
       "  </thead>\n",
       "  <tbody>\n",
       "    <tr>\n",
       "      <th>frontal cortex</th>\n",
       "      <td>1</td>\n",
       "      <td>32</td>\n",
       "      <td>0</td>\n",
       "    </tr>\n",
       "    <tr>\n",
       "      <th>hippocampus</th>\n",
       "      <td>13</td>\n",
       "      <td>0</td>\n",
       "      <td>4</td>\n",
       "    </tr>\n",
       "    <tr>\n",
       "      <th>temporal cortex</th>\n",
       "      <td>1</td>\n",
       "      <td>0</td>\n",
       "      <td>28</td>\n",
       "    </tr>\n",
       "  </tbody>\n",
       "</table>\n",
       "</div>"
      ],
      "text/plain": [
       "clusters         frontal cortex  hippocampus  temporal cortex\n",
       "row_0                                                        \n",
       "frontal cortex                1           32                0\n",
       "hippocampus                  13            0                4\n",
       "temporal cortex               1            0               28"
      ]
     },
     "execution_count": 50,
     "metadata": {},
     "output_type": "execute_result"
    }
   ],
   "source": [
    "pd.crosstab(output_tissue, meta_all['clusters'])"
   ]
  },
  {
   "cell_type": "code",
   "execution_count": 51,
   "id": "d1724d1f",
   "metadata": {},
   "outputs": [],
   "source": [
    "from sklearn import metrics"
   ]
  },
  {
   "cell_type": "code",
   "execution_count": 52,
   "id": "f50512ba",
   "metadata": {},
   "outputs": [
    {
     "data": {
      "text/plain": [
       "0.3670886075949367"
      ]
     },
     "execution_count": 52,
     "metadata": {},
     "output_type": "execute_result"
    }
   ],
   "source": [
    "score = metrics.accuracy_score(output_tissue, meta_all['clusters'])\n",
    "score"
   ]
  },
  {
   "cell_type": "markdown",
   "id": "1ec5227f",
   "metadata": {},
   "source": [
    "### Interpretação dos resultados:\n",
    "\n",
    "Através da interpretação dos resultados extraídos a partir dos métodos 'crosstab' e 'metrics.accuracy_score' conseguimos concluir que o método não supervisionado 'K-Means' consegue prever o tipo de tecido estudado com 92,4% de acuidade, provando-se assim um método aplicável à previsão desta variável noutros casos."
   ]
  },
  {
   "cell_type": "markdown",
   "id": "72f04ab7",
   "metadata": {},
   "source": [
    "---"
   ]
  },
  {
   "cell_type": "markdown",
   "id": "1d757fd7",
   "metadata": {},
   "source": [
    "## Secção 3: Modelos de Aprendizagem Máquina "
   ]
  },
  {
   "cell_type": "markdown",
   "id": "9b8db9d2",
   "metadata": {},
   "source": [
    "### 3.1. Supervised machine learning"
   ]
  },
  {
   "cell_type": "markdown",
   "id": "03b9f835",
   "metadata": {},
   "source": [
    "### Previsão do estado da doença"
   ]
  },
  {
   "cell_type": "markdown",
   "id": "4c8127a2",
   "metadata": {},
   "source": [
    "### Split para dados de treino e de teste"
   ]
  },
  {
   "cell_type": "code",
   "execution_count": 53,
   "id": "57bc19f4",
   "metadata": {},
   "outputs": [],
   "source": [
    "from sklearn.model_selection import train_test_split\n",
    "input_class=final_data.transpose()\n",
    "output_class= meta_all[\"disease.state\"]\n",
    "\n",
    "#30% para dados de teste, random_state se estiver a 0 dá sempre os mesmos dados para treino e para teste.\n",
    "#se random_state não for referenciado obtemos diferentes conjuntos de teste e de treino em cada execução e fica fora do controle.\n",
    "# temos de colocar stratify como o output_class caso contrário não vamos ter a mesma proporção de dados de treino e de teste.\n",
    "train_in,test_in,train_out,test_out=train_test_split(\n",
    "    input_class,output_class,test_size=0.3,random_state=30, stratify=output_class)\n"
   ]
  },
  {
   "cell_type": "code",
   "execution_count": 54,
   "id": "8f956393",
   "metadata": {},
   "outputs": [
    {
     "name": "stdout",
     "output_type": "stream",
     "text": [
      "Input treino:  (55, 2269)\n",
      "Output treino:  (55,)\n",
      "Input teste:  (24, 2269)\n",
      "Output teste (24,)\n"
     ]
    }
   ],
   "source": [
    "print(\"Input treino: \",train_in.shape)\n",
    "print(\"Output treino: \",train_out.shape)\n",
    "\n",
    "print(\"Input teste: \",test_in.shape)\n",
    "print(\"Output teste\", test_out.shape)\n",
    "\n",
    "# Nota: o output deverá ser somente o valor previsto para o disease.state."
   ]
  },
  {
   "cell_type": "code",
   "execution_count": 55,
   "id": "36d2418d",
   "metadata": {},
   "outputs": [
    {
     "data": {
      "text/plain": [
       "array([[9.1215 , 8.23862, 8.97261, ..., 8.57627, 9.40645, 8.00377],\n",
       "       [9.43285, 7.15491, 8.62149, ..., 8.02487, 9.88513, 8.50175],\n",
       "       [9.5066 , 7.12705, 9.08543, ..., 8.41331, 9.39954, 8.23673],\n",
       "       ...,\n",
       "       [9.55219, 8.69055, 9.13568, ..., 8.15902, 9.50424, 8.57545],\n",
       "       [9.58462, 7.92568, 8.54794, ..., 8.2951 , 9.45384, 8.31072],\n",
       "       [9.51419, 8.7087 , 9.3983 , ..., 8.73574, 9.27777, 8.16791]])"
      ]
     },
     "execution_count": 55,
     "metadata": {},
     "output_type": "execute_result"
    }
   ],
   "source": [
    "#Exemplo entrada\n",
    "train_in"
   ]
  },
  {
   "cell_type": "code",
   "execution_count": 56,
   "id": "6d6b5227",
   "metadata": {},
   "outputs": [
    {
     "data": {
      "text/plain": [
       "GSM907870    non-Alzheimer's disease\n",
       "GSM907809    non-Alzheimer's disease\n",
       "GSM907838    non-Alzheimer's disease\n",
       "GSM907843    non-Alzheimer's disease\n",
       "GSM907859        Alzheimer's disease\n",
       "GSM907850    non-Alzheimer's disease\n",
       "GSM907819    non-Alzheimer's disease\n",
       "GSM907847    non-Alzheimer's disease\n",
       "GSM907817    non-Alzheimer's disease\n",
       "GSM907798        Alzheimer's disease\n",
       "GSM907865    non-Alzheimer's disease\n",
       "GSM907794        Alzheimer's disease\n",
       "GSM907805        Alzheimer's disease\n",
       "GSM907808    non-Alzheimer's disease\n",
       "GSM907851    non-Alzheimer's disease\n",
       "GSM907858        Alzheimer's disease\n",
       "GSM907835    non-Alzheimer's disease\n",
       "GSM907800        Alzheimer's disease\n",
       "GSM907854        Alzheimer's disease\n",
       "GSM907839    non-Alzheimer's disease\n",
       "GSM907857        Alzheimer's disease\n",
       "GSM907833        Alzheimer's disease\n",
       "GSM907864    non-Alzheimer's disease\n",
       "GSM907825        Alzheimer's disease\n",
       "GSM907868    non-Alzheimer's disease\n",
       "GSM907828        Alzheimer's disease\n",
       "GSM907844    non-Alzheimer's disease\n",
       "GSM907796        Alzheimer's disease\n",
       "GSM907822    non-Alzheimer's disease\n",
       "GSM907863    non-Alzheimer's disease\n",
       "GSM907866    non-Alzheimer's disease\n",
       "GSM907869    non-Alzheimer's disease\n",
       "GSM907837    non-Alzheimer's disease\n",
       "GSM907831        Alzheimer's disease\n",
       "GSM907801        Alzheimer's disease\n",
       "GSM907793        Alzheimer's disease\n",
       "GSM907797        Alzheimer's disease\n",
       "GSM907821    non-Alzheimer's disease\n",
       "GSM907842    non-Alzheimer's disease\n",
       "GSM907807    non-Alzheimer's disease\n",
       "GSM907834        Alzheimer's disease\n",
       "GSM907812    non-Alzheimer's disease\n",
       "GSM907848    non-Alzheimer's disease\n",
       "GSM907795        Alzheimer's disease\n",
       "GSM907815    non-Alzheimer's disease\n",
       "GSM907829        Alzheimer's disease\n",
       "GSM907830        Alzheimer's disease\n",
       "GSM907832        Alzheimer's disease\n",
       "GSM907836    non-Alzheimer's disease\n",
       "GSM907816    non-Alzheimer's disease\n",
       "GSM907862    non-Alzheimer's disease\n",
       "GSM907855        Alzheimer's disease\n",
       "GSM907813    non-Alzheimer's disease\n",
       "GSM907846    non-Alzheimer's disease\n",
       "GSM907820    non-Alzheimer's disease\n",
       "Name: disease.state, dtype: object"
      ]
     },
     "execution_count": 56,
     "metadata": {},
     "output_type": "execute_result"
    }
   ],
   "source": [
    "#Exemplo de saída \n",
    "train_out"
   ]
  },
  {
   "cell_type": "markdown",
   "id": "bca8999b",
   "metadata": {},
   "source": [
    "### KNN "
   ]
  },
  {
   "cell_type": "code",
   "execution_count": 57,
   "id": "820c538b",
   "metadata": {},
   "outputs": [
    {
     "name": "stdout",
     "output_type": "stream",
     "text": [
      "Precision: 0.75\n",
      "Recall: 0.75\n",
      "Accuracy: 0.75\n"
     ]
    }
   ],
   "source": [
    "from sklearn.neighbors import KNeighborsClassifier\n",
    "from sklearn.metrics import precision_score, recall_score, accuracy_score, ConfusionMatrixDisplay\n",
    "knn = KNeighborsClassifier(n_neighbors = 4) \n",
    "knn.fit(train_in, train_out) # fit para o treino\n",
    "knn_pred_Y = knn.predict(test_in) # fit para o teste\n",
    "print('Precision: %0.2f' % precision_score(test_out, knn_pred_Y, average='weighted'))\n",
    "print('Recall: %0.2f' % recall_score(test_out, knn_pred_Y, average='weighted'))\n",
    "print('Accuracy: %0.2f' % accuracy_score(test_out, knn_pred_Y))"
   ]
  },
  {
   "cell_type": "markdown",
   "id": "b8f4050d",
   "metadata": {},
   "source": [
    "#### Confusion Matrix KNN"
   ]
  },
  {
   "cell_type": "code",
   "execution_count": 58,
   "id": "6a9aaad6",
   "metadata": {},
   "outputs": [
    {
     "data": {
      "text/plain": [
       "<sklearn.metrics._plot.confusion_matrix.ConfusionMatrixDisplay at 0x1cad1dbe490>"
      ]
     },
     "execution_count": 58,
     "metadata": {},
     "output_type": "execute_result"
    },
    {
     "data": {
      "image/png": "[encoded data removed]",
      "text/plain": [
       "<Figure size 640x480 with 2 Axes>"
      ]
     },
     "metadata": {},
     "output_type": "display_data"
    }
   ],
   "source": [
    "knn_cm = ConfusionMatrixDisplay.from_predictions(test_out, knn_pred_Y, display_labels=knn.classes_, cmap='Blues')\n",
    "knn_cm"
   ]
  },
  {
   "cell_type": "markdown",
   "id": "c1c0f447",
   "metadata": {},
   "source": [
    "### Decision Tree"
   ]
  },
  {
   "cell_type": "code",
   "execution_count": 59,
   "id": "b28f4cc0",
   "metadata": {},
   "outputs": [
    {
     "name": "stdout",
     "output_type": "stream",
     "text": [
      "Precision: 0.68\n",
      "Recall: 0.67\n",
      "Accuracy: 0.67\n"
     ]
    }
   ],
   "source": [
    "from sklearn import tree\n",
    "\n",
    "tree_model = tree.DecisionTreeClassifier()\n",
    "tree_model.fit(train_in, train_out)\n",
    "\n",
    "tree_y_pred = tree_model.predict(test_in)\n",
    "\n",
    "print('Precision: %0.2f' % precision_score(test_out, tree_y_pred, average='weighted'))\n",
    "print('Recall: %0.2f' % recall_score(test_out, tree_y_pred, average='weighted'))\n",
    "print('Accuracy: %0.2f' % accuracy_score(test_out, tree_y_pred))"
   ]
  },
  {
   "cell_type": "markdown",
   "id": "46c85054",
   "metadata": {},
   "source": [
    "#### Confusion Matrix"
   ]
  },
  {
   "cell_type": "code",
   "execution_count": 60,
   "id": "22d1f3b4",
   "metadata": {},
   "outputs": [
    {
     "data": {
      "text/plain": [
       "<sklearn.metrics._plot.confusion_matrix.ConfusionMatrixDisplay at 0x1cad6a3f8d0>"
      ]
     },
     "execution_count": 60,
     "metadata": {},
     "output_type": "execute_result"
    },
    {
     "data": {
      "image/png": "[encoded data removed]",
      "text/plain": [
       "<Figure size 640x480 with 2 Axes>"
      ]
     },
     "metadata": {},
     "output_type": "display_data"
    }
   ],
   "source": [
    "tree_cm = ConfusionMatrixDisplay.from_predictions(test_out, tree_y_pred, display_labels=tree_model.classes_, cmap='Blues')\n",
    "tree_cm"
   ]
  },
  {
   "cell_type": "markdown",
   "id": "c854c669",
   "metadata": {},
   "source": [
    "### Naive-Bayes"
   ]
  },
  {
   "cell_type": "code",
   "execution_count": 61,
   "id": "b34fec63",
   "metadata": {},
   "outputs": [
    {
     "name": "stdout",
     "output_type": "stream",
     "text": [
      "Precision: 0.71\n",
      "Recall: 0.71\n",
      "Accuracy: 0.71\n"
     ]
    }
   ],
   "source": [
    "from sklearn.naive_bayes import GaussianNB\n",
    "\n",
    "gnb_model = GaussianNB()\n",
    "gnb_model.fit(train_in, train_out)\n",
    "\n",
    "gnb_y_pred = gnb_model.predict(test_in)\n",
    "\n",
    "print('Precision: %0.2f' % precision_score(test_out, gnb_y_pred, average='weighted'))\n",
    "print('Recall: %0.2f' % recall_score(test_out, gnb_y_pred, average='weighted'))\n",
    "print('Accuracy: %0.2f' % accuracy_score(test_out, gnb_y_pred))\n"
   ]
  },
  {
   "cell_type": "markdown",
   "id": "304be01d",
   "metadata": {},
   "source": [
    "#### Confusion Matrix"
   ]
  },
  {
   "cell_type": "code",
   "execution_count": 62,
   "id": "74bab657",
   "metadata": {},
   "outputs": [
    {
     "data": {
      "text/plain": [
       "<sklearn.metrics._plot.confusion_matrix.ConfusionMatrixDisplay at 0x1cad6a3f950>"
      ]
     },
     "execution_count": 62,
     "metadata": {},
     "output_type": "execute_result"
    },
    {
     "data": {
      "image/png": "[encoded data removed]",
      "text/plain": [
       "<Figure size 640x480 with 2 Axes>"
      ]
     },
     "metadata": {},
     "output_type": "display_data"
    }
   ],
   "source": [
    "gnb_cm = ConfusionMatrixDisplay.from_predictions(test_out, gnb_y_pred, display_labels=gnb_model.classes_, cmap='Blues')\n",
    "gnb_cm"
   ]
  },
  {
   "cell_type": "markdown",
   "id": "80232a7e",
   "metadata": {},
   "source": [
    "### SVM"
   ]
  },
  {
   "cell_type": "code",
   "execution_count": 63,
   "id": "b2a92285",
   "metadata": {},
   "outputs": [
    {
     "name": "stdout",
     "output_type": "stream",
     "text": [
      "Precision: 0.85\n",
      "Recall: 0.79\n",
      "Accuracy: 0.79\n"
     ]
    }
   ],
   "source": [
    "from sklearn import svm\n",
    "\n",
    "svm_model = svm.SVC(kernel = \"linear\")\n",
    "svm_model.fit(train_in, train_out)\n",
    "\n",
    "svm_y_pred = svm_model.predict(test_in)\n",
    "\n",
    "print('Precision: %0.2f' % precision_score(test_out, svm_y_pred, average='weighted'))\n",
    "print('Recall: %0.2f' % recall_score(test_out, svm_y_pred, average='weighted'))\n",
    "print('Accuracy: %0.2f' % accuracy_score(test_out, svm_y_pred))"
   ]
  },
  {
   "cell_type": "code",
   "execution_count": 64,
   "id": "168207c6",
   "metadata": {},
   "outputs": [
    {
     "data": {
      "text/plain": [
       "<sklearn.metrics._plot.confusion_matrix.ConfusionMatrixDisplay at 0x1cad6a39110>"
      ]
     },
     "execution_count": 64,
     "metadata": {},
     "output_type": "execute_result"
    },
    {
     "data": {
      "image/png": "[encoded data removed]",
      "text/plain": [
       "<Figure size 640x480 with 2 Axes>"
      ]
     },
     "metadata": {},
     "output_type": "display_data"
    }
   ],
   "source": [
    "svm_cm = ConfusionMatrixDisplay.from_predictions(test_out, svm_y_pred, display_labels=svm_model.classes_, cmap='Blues')\n",
    "svm_cm"
   ]
  },
  {
   "cell_type": "code",
   "execution_count": null,
   "id": "9fd6fbeb",
   "metadata": {},
   "outputs": [],
   "source": []
  }
 ],
 "metadata": {
  "kernelspec": {
   "display_name": "Python 3 (ipykernel)",
   "language": "python",
   "name": "python3"
  },
  "language_info": {
   "codemirror_mode": {
    "name": "ipython",
    "version": 3
   },
   "file_extension": ".py",
   "mimetype": "text/x-python",
   "name": "python",
   "nbconvert_exporter": "python",
   "pygments_lexer": "ipython3",
   "version": "3.11.4"
  }
 },
 "nbformat": 4,
 "nbformat_minor": 5
}
